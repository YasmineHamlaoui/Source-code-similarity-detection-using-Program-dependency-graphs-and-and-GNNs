{
 "cells": [
  {
   "cell_type": "code",
   "execution_count": 5,
   "id": "9e7918b3",
   "metadata": {},
   "outputs": [],
   "source": [
    "import os\n",
    "import pythonObfuscator.python_obfuscator.techniques as t\n",
    "import os\n",
    "from os import listdir\n",
    "from os.path import isfile, join\n",
    "import subprocess\n",
    "import glob\n",
    "\n",
    "dir= \"./python\"\n",
    "subdirs=glob.glob(dir+\"\\*\", recursive = True)\n",
    "\n",
    "\n",
    "def obfuscator():\n",
    "    \n",
    "    for subdir in subdirs:\n",
    "        j=0\n",
    "    \n",
    "    \n",
    "        subdir=subdir.replace(\"\\\\\",\"/\")\n",
    "    \n",
    "        plagiarized=subdir+\"/plagiarized/\"\n",
    "        original=subdir+\"/original/code.py\"\n",
    "        print(original)\n",
    "        with open(original,\"r\") as f:\n",
    "            code=f.read()\n",
    "            \n",
    "        \n",
    "            \n",
    "        \n",
    "\n",
    "        labels=[\"_exact_copy\",\"_one_lined\", \"_variable_renamed\", \"_comments_removed\", \"_random_variables_added\"]\n",
    "        \n",
    "        for code_label in labels:\n",
    "\n",
    "            with open(plagiarized+\"/code0\"+str(j)+code_label+\".py\", \"w\") as code_file:\n",
    "                            j+=1\n",
    "                            if code_label==\"_exact_copy\": \n",
    "                                    code_file.write(code)  \n",
    "                            if code_label==\"_one_lined\": \n",
    "                                    code_file.write(t.one_liner(t.comments_remover(code)))     \n",
    "                            if code_label==\"_variable_renamed\":\n",
    "                                    code_file.write(t.variable_renamer(code))\n",
    "                            if code_label==\"_comments_removed\":\n",
    "                                    code_file.write(t.comments_remover(code))\n",
    "                            if code_label==\"_random_variables_added\":\n",
    "                                    code_file.write(t.add_random_variables(code))"
   ]
  },
  {
   "cell_type": "code",
   "execution_count": 6,
   "id": "bf5de861",
   "metadata": {
    "scrolled": true
   },
   "outputs": [],
   "source": [
    "obfuscator()"
   ]
  },
  {
   "cell_type": "code",
   "execution_count": 3,
   "id": "470aa334",
   "metadata": {},
   "outputs": [],
   "source": [
    "\n",
    "def obfuscator_delete():\n",
    "    \n",
    "    for subdir in subdirs:\n",
    "        j=0\n",
    "    \n",
    "    \n",
    "        subdir=subdir.replace(\"\\\\\",\"/\")\n",
    "    \n",
    "        plagiarized=subdir+\"/plagiarized/\"\n",
    "       \n",
    "        for file_name in os.listdir(plagiarized):\n",
    "                # construct full file path\n",
    "                file = plagiarized + file_name\n",
    "                if os.path.isfile(file):\n",
    "                    print('Deleting file:', file)\n",
    "                    os.remove(file)\n",
    "\n",
    "\n",
    "\n",
    "        \n",
    "\n",
    "     \n",
    "\n",
    "\n",
    "\n"
   ]
  },
  {
   "cell_type": "code",
   "execution_count": 4,
   "id": "a73ff9ba",
   "metadata": {},
   "outputs": [],
   "source": [
    "obfuscator_delete()"
   ]
  },
  {
   "cell_type": "code",
   "execution_count": null,
   "id": "e35b6c11",
   "metadata": {},
   "outputs": [],
   "source": []
  }
 ],
 "metadata": {
  "kernelspec": {
   "display_name": "Python 3 (ipykernel)",
   "language": "python",
   "name": "python3"
  },
  "language_info": {
   "codemirror_mode": {
    "name": "ipython",
    "version": 3
   },
   "file_extension": ".py",
   "mimetype": "text/x-python",
   "name": "python",
   "nbconvert_exporter": "python",
   "pygments_lexer": "ipython3",
   "version": "3.9.7"
  }
 },
 "nbformat": 4,
 "nbformat_minor": 5
}
