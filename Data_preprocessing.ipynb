{
 "cells": [
  {
   "cell_type": "code",
   "execution_count": 1,
   "id": "33b70eae",
   "metadata": {},
   "outputs": [],
   "source": [
    "#Création des PDG python\n",
    "\n",
    "import os\n",
    "from os import listdir\n",
    "from os.path import isfile, join\n",
    "import ast\n",
    "import codegra_plag as dg\n",
    "import subprocess\n",
    "import glob\n",
    "import shutil\n",
    "\n",
    "\n",
    "#extraire les chemins des fichiers\n",
    "\n",
    "os.environ[\"PATH\"] += os.pathsep + \"Graphviz/bin/\"\n",
    "dir= \"./python\"\n",
    "subdirs=glob.glob(dir+\"\\*\\*\", recursive = True)\n",
    "\n",
    "\n",
    "\n",
    "\n",
    "\n",
    "\n",
    "def create_pdg_python ():\n",
    "        \n",
    "        for sub in subdirs :\n",
    "            sub=sub.replace(\"\\\\\",\"/\")\n",
    "            print(sub)\n",
    "            filenames = [f for f in listdir(sub) if isfile(join(sub, f))]\n",
    "            i=0\n",
    "            for file in filenames:\n",
    "                \n",
    "                  \n",
    "                       \n",
    "                                with open(sub+'/'+file, \"r\") as source:  \n",
    "                                    ast_tree = ast.parse(source.read())  \n",
    "\n",
    "                      \n",
    "                                #Génerer un PDG du code python\n",
    "                                pdg= dg.create_pdg(ast_tree)\n",
    "                                pdg_dot=dg.graph.Graph.to_dot(pdg)\n",
    "                                \n",
    "                                \n",
    "                                #sauvegrader en format dot\n",
    "\n",
    "                                output= sub+'/dot/output_'+str(i)+'.dot'\n",
    "                                if not os.path.exists(os.path.dirname(sub+'/dot/')):\n",
    "                                        os.mkdir(sub+'/dot')\n",
    "\n",
    "\n",
    "                                with open(output, 'w') as f:\n",
    "                                    f.write(str(pdg_dot))\n",
    "\n",
    "                                output_json=  sub+'/json/output_'+str(i)+'.json'\n",
    "                                if not os.path.exists(os.path.dirname(sub+'/json/')):\n",
    "                                        os.mkdir(sub+'/json/')\n",
    "\n",
    "\n",
    "                                #Convertir le dot en JSON\n",
    "                                subprocess.run(['dot', '-Txdot_json', '-o', output_json, output], shell = True)\n",
    "\n",
    "                                i+=1\n",
    "                       \n"
   ]
  },
  {
   "cell_type": "code",
   "execution_count": null,
   "id": "bb9e16be",
   "metadata": {
    "scrolled": true
   },
   "outputs": [
    {
     "name": "stdout",
     "output_type": "stream",
     "text": [
      "./python/average of a list/non-plagiarized\n"
     ]
    },
    {
     "name": "stderr",
     "output_type": "stream",
     "text": [
      "WARNING:root:Variable \"statistics\" can possible not be mutated\n",
      "WARNING:root:Lambda's are not yet supported\n",
      "WARNING:root:Variable \"numpy\" can possible not be mutated\n",
      "WARNING:root:Lambda's are not yet supported\n",
      "WARNING:root:Lambda's are not yet supported\n"
     ]
    },
    {
     "name": "stdout",
     "output_type": "stream",
     "text": [
      "./python/average of a list/original\n",
      "./python/average of a list/plagiarized\n"
     ]
    },
    {
     "name": "stderr",
     "output_type": "stream",
     "text": [
      "WARNING:root:Lambda's are not yet supported\n",
      "WARNING:root:Lambda's are not yet supported\n",
      "WARNING:root:Lambda's are not yet supported\n",
      "WARNING:root:Lambda's are not yet supported\n"
     ]
    },
    {
     "name": "stdout",
     "output_type": "stream",
     "text": [
      "./python/calculate the factorial of a number/non-plagiarized\n"
     ]
    },
    {
     "name": "stderr",
     "output_type": "stream",
     "text": [
      "WARNING:root:Variable \"math\" can possible not be mutated\n",
      "WARNING:root:Lambda's are not yet supported\n",
      "WARNING:root:Lambda's are not yet supported\n",
      "WARNING:root:Lambda's are not yet supported\n",
      "WARNING:root:Lambda's are not yet supported\n",
      "WARNING:root:Variable \"np\" can possible not be mutated\n",
      "WARNING:root:Variable \"np\" can possible not be mutated\n"
     ]
    },
    {
     "name": "stdout",
     "output_type": "stream",
     "text": [
      "./python/calculate the factorial of a number/original\n",
      "./python/calculate the factorial of a number/plagiarized\n"
     ]
    },
    {
     "name": "stderr",
     "output_type": "stream",
     "text": [
      "WARNING:root:Variable \"math\" can possible not be mutated\n"
     ]
    },
    {
     "name": "stdout",
     "output_type": "stream",
     "text": [
      "./python/check if a number is a perfect square/non-plagiarized\n"
     ]
    },
    {
     "name": "stderr",
     "output_type": "stream",
     "text": [
      "WARNING:root:Variable \"math\" can possible not be mutated\n",
      "WARNING:root:Variable \"math\" can possible not be mutated\n",
      "WARNING:root:Variable \"math\" can possible not be mutated\n",
      "WARNING:root:Variable \"math\" can possible not be mutated\n",
      "WARNING:root:Variable \"math\" can possible not be mutated\n",
      "WARNING:root:Variable \"math\" can possible not be mutated\n",
      "WARNING:root:Variable \"math\" can possible not be mutated\n",
      "WARNING:root:Variable \"math\" can possible not be mutated\n",
      "WARNING:root:Variable \"math\" can possible not be mutated\n",
      "WARNING:root:Variable \"math\" can possible not be mutated\n"
     ]
    },
    {
     "name": "stdout",
     "output_type": "stream",
     "text": [
      "./python/check if a number is a perfect square/original\n",
      "./python/check if a number is a perfect square/plagiarized\n"
     ]
    },
    {
     "name": "stderr",
     "output_type": "stream",
     "text": [
      "WARNING:root:Variable \"math\" can possible not be mutated\n",
      "WARNING:root:Variable \"math\" can possible not be mutated\n",
      "WARNING:root:Variable \"math\" can possible not be mutated\n",
      "WARNING:root:Variable \"math\" can possible not be mutated\n"
     ]
    },
    {
     "name": "stdout",
     "output_type": "stream",
     "text": [
      "./python/check if a number is prime/non-plagiarized\n"
     ]
    },
    {
     "name": "stderr",
     "output_type": "stream",
     "text": [
      "WARNING:root:Variable \"math\" can possible not be mutated\n",
      "WARNING:root:Variable \"math\" can possible not be mutated\n"
     ]
    },
    {
     "name": "stdout",
     "output_type": "stream",
     "text": [
      "./python/check if a number is prime/original\n",
      "./python/check if a number is prime/plagiarized\n",
      "./python/Check if email address valid or not/non-plagiarized\n"
     ]
    },
    {
     "name": "stderr",
     "output_type": "stream",
     "text": [
      "WARNING:root:Variable \"re\" can possible not be mutated\n",
      "WARNING:root:Variable \"re\" can possible not be mutated\n",
      "WARNING:root:Variable \"mailbox\" can possible not be mutated\n",
      "WARNING:root:Variable \"dns.resolver\" can possible not be mutated\n",
      "WARNING:root:Variable \"re\" can possible not be mutated\n",
      "WARNING:root:Variable \"re\" can possible not be mutated\n",
      "WARNING:root:Variable \"re\" can possible not be mutated\n"
     ]
    },
    {
     "name": "stdout",
     "output_type": "stream",
     "text": [
      "./python/Check if email address valid or not/original\n",
      "./python/Check if email address valid or not/plagiarized\n"
     ]
    },
    {
     "name": "stderr",
     "output_type": "stream",
     "text": [
      "WARNING:root:Variable \"re\" can possible not be mutated\n",
      "WARNING:root:Variable \"re\" can possible not be mutated\n",
      "WARNING:root:Variable \"re\" can possible not be mutated\n",
      "WARNING:root:Variable \"re\" can possible not be mutated\n"
     ]
    },
    {
     "name": "stdout",
     "output_type": "stream",
     "text": [
      "./python/check Palindrome number/non-plagiarized\n"
     ]
    },
    {
     "name": "stderr",
     "output_type": "stream",
     "text": [
      "WARNING:root:Variable \"math\" can possible not be mutated\n",
      "WARNING:root:Variable \"math\" can possible not be mutated\n"
     ]
    },
    {
     "name": "stdout",
     "output_type": "stream",
     "text": [
      "./python/check Palindrome number/original\n",
      "./python/check Palindrome number/plagiarized\n",
      "./python/convert decimal to binary/non-plagiarized\n",
      "./python/convert decimal to binary/original\n",
      "./python/convert decimal to binary/plagiarized\n",
      "./python/convert Snake case to Pascal case/non-plagiarized\n"
     ]
    },
    {
     "name": "stderr",
     "output_type": "stream",
     "text": [
      "WARNING:root:Lambda's are not yet supported\n",
      "WARNING:root:Variable \"re\" can possible not be mutated\n",
      "WARNING:root:Lambda's are not yet supported\n"
     ]
    },
    {
     "name": "stdout",
     "output_type": "stream",
     "text": [
      "./python/convert Snake case to Pascal case/original\n",
      "./python/convert Snake case to Pascal case/plagiarized\n",
      "./python/count occurences of an element in a list/non-plagiarized\n"
     ]
    },
    {
     "name": "stderr",
     "output_type": "stream",
     "text": [
      "WARNING:root:Variable \"pd\" can possible not be mutated\n",
      "WARNING:root:Variable \"op\" can possible not be mutated\n"
     ]
    },
    {
     "name": "stdout",
     "output_type": "stream",
     "text": [
      "./python/count occurences of an element in a list/original\n",
      "./python/count occurences of an element in a list/plagiarized\n",
      "./python/count vowels in a string/non-plagiarized\n",
      "./python/count vowels in a string/original\n",
      "./python/count vowels in a string/plagiarized\n"
     ]
    },
    {
     "name": "stderr",
     "output_type": "stream",
     "text": [
      "WARNING:root:Variable \"re\" can possible not be mutated\n",
      "WARNING:root:Variable \"num\" can possible not be mutated\n"
     ]
    },
    {
     "name": "stdout",
     "output_type": "stream",
     "text": [
      "./python/Extract maximum numeric value from a string/non-plagiarized\n"
     ]
    },
    {
     "name": "stderr",
     "output_type": "stream",
     "text": [
      "WARNING:root:Variable \"num\" can possible not be mutated\n",
      "WARNING:root:Variable \"num\" can possible not be mutated\n",
      "WARNING:root:Variable \"re\" can possible not be mutated\n",
      "WARNING:root:Variable \"num\" can possible not be mutated\n",
      "WARNING:root:Variable \"re\" can possible not be mutated\n",
      "WARNING:root:Variable \"num\" can possible not be mutated\n",
      "WARNING:root:Variable \"re\" can possible not be mutated\n",
      "WARNING:root:Variable \"num\" can possible not be mutated\n",
      "WARNING:root:Variable \"re\" can possible not be mutated\n",
      "WARNING:root:Variable \"num\" can possible not be mutated\n",
      "WARNING:root:Variable \"num\" can possible not be mutated\n",
      "WARNING:root:Variable \"re\" can possible not be mutated\n",
      "WARNING:root:Variable \"re\" can possible not be mutated\n"
     ]
    },
    {
     "name": "stdout",
     "output_type": "stream",
     "text": [
      "./python/Extract maximum numeric value from a string/original\n",
      "./python/Extract maximum numeric value from a string/plagiarized\n"
     ]
    },
    {
     "name": "stderr",
     "output_type": "stream",
     "text": [
      "WARNING:root:Variable \"re\" can possible not be mutated\n",
      "WARNING:root:Variable \"re\" can possible not be mutated\n",
      "WARNING:root:Variable \"re\" can possible not be mutated\n",
      "WARNING:root:Variable \"re\" can possible not be mutated\n"
     ]
    },
    {
     "name": "stdout",
     "output_type": "stream",
     "text": [
      "./python/fibonacci sequence/non-plagiarized\n"
     ]
    },
    {
     "name": "stderr",
     "output_type": "stream",
     "text": [
      "WARNING:root:Variable \"OrderedDict\" can possible not be mutated\n",
      "WARNING:root:Variable \"FibArray\" can possible not be mutated\n"
     ]
    },
    {
     "name": "stdout",
     "output_type": "stream",
     "text": [
      "./python/fibonacci sequence/original\n",
      "./python/fibonacci sequence/plagiarized\n",
      "./python/find a substring in a string/non-plagiarized\n"
     ]
    },
    {
     "name": "stderr",
     "output_type": "stream",
     "text": [
      "WARNING:root:Variable \"re\" can possible not be mutated\n"
     ]
    },
    {
     "name": "stdout",
     "output_type": "stream",
     "text": [
      "./python/find a substring in a string/original\n",
      "./python/find a substring in a string/plagiarized\n",
      "./python/find the maximum element in a list/non-plagiarized\n"
     ]
    },
    {
     "name": "stderr",
     "output_type": "stream",
     "text": [
      "WARNING:root:Variable \"heapq\" can possible not be mutated\n",
      "WARNING:root:Lambda's are not yet supported\n",
      "WARNING:root:Variable \"np\" can possible not be mutated\n",
      "WARNING:root:Variable \"pd\" can possible not be mutated\n",
      "WARNING:root:Lambda's are not yet supported\n"
     ]
    },
    {
     "name": "stdout",
     "output_type": "stream",
     "text": [
      "./python/find the maximum element in a list/original\n",
      "./python/find the maximum element in a list/plagiarized\n",
      "./python/interchange first and last elements in a list/non-plagiarized\n",
      "./python/interchange first and last elements in a list/original\n",
      "./python/interchange first and last elements in a list/plagiarized\n",
      "./python/remove duplicates from a list/non-plagiarized\n"
     ]
    },
    {
     "name": "stderr",
     "output_type": "stream",
     "text": [
      "WARNING:root:Variable \"dict\" can possible not be mutated\n",
      "WARNING:root:Lambda's are not yet supported\n"
     ]
    },
    {
     "name": "stdout",
     "output_type": "stream",
     "text": [
      "./python/remove duplicates from a list/original\n",
      "./python/remove duplicates from a list/plagiarized\n",
      "./python/remove first n characters from a string/non-plagiarized\n"
     ]
    },
    {
     "name": "stderr",
     "output_type": "stream",
     "text": [
      "WARNING:root:Variable \"re\" can possible not be mutated\n",
      "WARNING:root:Variable \"re\" can possible not be mutated\n",
      "WARNING:root:Variable \"re\" can possible not be mutated\n"
     ]
    },
    {
     "name": "stdout",
     "output_type": "stream",
     "text": [
      "./python/remove first n characters from a string/original\n",
      "./python/remove first n characters from a string/plagiarized\n"
     ]
    },
    {
     "name": "stderr",
     "output_type": "stream",
     "text": [
      "WARNING:root:Variable \"re\" can possible not be mutated\n",
      "WARNING:root:Variable \"re\" can possible not be mutated\n",
      "WARNING:root:Variable \"re\" can possible not be mutated\n",
      "WARNING:root:Variable \"re\" can possible not be mutated\n"
     ]
    },
    {
     "name": "stdout",
     "output_type": "stream",
     "text": [
      "./python/remove the nth index character from a string/non-plagiarized\n",
      "./python/remove the nth index character from a string/original\n",
      "./python/remove the nth index character from a string/plagiarized\n",
      "./python/Replace all occurrences of a substring in a string/non-plagiarized\n"
     ]
    },
    {
     "name": "stderr",
     "output_type": "stream",
     "text": [
      "WARNING:root:Variable \"re\" can possible not be mutated\n",
      "WARNING:root:Variable \"re\" can possible not be mutated\n",
      "WARNING:root:Lambda's are not yet supported\n",
      "WARNING:root:Variable \"re\" can possible not be mutated\n",
      "WARNING:root:Lambda's are not yet supported\n",
      "WARNING:root:Variable \"re\" can possible not be mutated\n",
      "WARNING:root:Variable \"re\" can possible not be mutated\n",
      "WARNING:root:Variable \"re\" can possible not be mutated\n",
      "WARNING:root:Variable \"re\" can possible not be mutated\n",
      "WARNING:root:Variable \"re\" can possible not be mutated\n",
      "WARNING:root:Variable \"re\" can possible not be mutated\n"
     ]
    },
    {
     "name": "stdout",
     "output_type": "stream",
     "text": [
      "./python/Replace all occurrences of a substring in a string/original\n",
      "./python/Replace all occurrences of a substring in a string/plagiarized\n"
     ]
    },
    {
     "name": "stderr",
     "output_type": "stream",
     "text": [
      "WARNING:root:Variable \"re\" can possible not be mutated\n",
      "WARNING:root:Variable \"re\" can possible not be mutated\n",
      "WARNING:root:Variable \"re\" can possible not be mutated\n",
      "WARNING:root:Variable \"re\" can possible not be mutated\n",
      "WARNING:root:Variable \"re\" can possible not be mutated\n",
      "WARNING:root:Variable \"re\" can possible not be mutated\n",
      "WARNING:root:Variable \"re\" can possible not be mutated\n",
      "WARNING:root:Variable \"re\" can possible not be mutated\n"
     ]
    },
    {
     "name": "stdout",
     "output_type": "stream",
     "text": [
      "./python/reverse a list/non-plagiarized\n"
     ]
    },
    {
     "name": "stderr",
     "output_type": "stream",
     "text": [
      "WARNING:root:Lambda's are not yet supported\n"
     ]
    },
    {
     "name": "stdout",
     "output_type": "stream",
     "text": [
      "./python/reverse a list/original\n",
      "./python/reverse a list/plagiarized\n",
      "./python/reverse a string/non-plagiarized\n"
     ]
    },
    {
     "name": "stderr",
     "output_type": "stream",
     "text": [
      "WARNING:root:Lambda's are not yet supported\n"
     ]
    },
    {
     "name": "stdout",
     "output_type": "stream",
     "text": [
      "./python/reverse a string/original\n",
      "./python/reverse a string/plagiarized\n",
      "./python/sort a dictionary by key/non-plagiarized\n"
     ]
    },
    {
     "name": "stderr",
     "output_type": "stream",
     "text": [
      "WARNING:root:Variable \"od\" can possible not be mutated\n",
      "WARNING:root:Variable \"json\" can possible not be mutated\n"
     ]
    },
    {
     "name": "stdout",
     "output_type": "stream",
     "text": [
      "./python/sort a dictionary by key/original\n",
      "./python/sort a dictionary by key/plagiarized\n"
     ]
    }
   ],
   "source": [
    "#les Warnings ne sont pas importants\n",
    "create_pdg_python()"
   ]
  },
  {
   "cell_type": "code",
   "execution_count": null,
   "id": "2d21a23a",
   "metadata": {},
   "outputs": [],
   "source": []
  },
  {
   "cell_type": "code",
   "execution_count": null,
   "id": "86d5047d",
   "metadata": {},
   "outputs": [],
   "source": []
  },
  {
   "cell_type": "code",
   "execution_count": 2,
   "id": "44e42cf9",
   "metadata": {},
   "outputs": [],
   "source": [
    "#Constructeur du PDG d'un code JAVA\n",
    "\n",
    "\n",
    "import javalang\n",
    "\n",
    "class PDGNode:\n",
    "    def __init__(self, node_type, name, node_id):\n",
    "        self.node_type = node_type\n",
    "        self.name = name\n",
    "        self.node_id = node_id\n",
    "\n",
    "class PDGConstructor:\n",
    "    def __init__(self):\n",
    "        self.nodes = []\n",
    "        self.edges = []\n",
    "\n",
    "    def add_node(self, node_type, name=\"\",i=0):\n",
    "        node = PDGNode(node_type, name,i)\n",
    "        self.nodes.append(node)\n",
    "        return node\n",
    "\n",
    "    def add_edge(self, src_node, dest_node, edge_type):\n",
    "        edge = (src_node, dest_node, edge_type)\n",
    "        self.edges.append(edge)\n",
    "        \n",
    "    def _populate_symbol_table(self, tree, symbol_table):\n",
    "              i=0\n",
    "              for path, node in tree:\n",
    "                    if isinstance(node, javalang.tree.VariableDeclarator):\n",
    "                    \n",
    "                        variable_name = node.name\n",
    "                        if node.initializer:\n",
    "                            symbol_table[node.initializer] = i\n",
    "                            \n",
    "                    if isinstance(node, javalang.tree.MethodInvocation):\n",
    "\n",
    "                        for argument in node.arguments:\n",
    "                             symbol_table[argument] = i\n",
    "                    if isinstance(node, javalang.tree.Assignment):\n",
    "                         symbol_table[node.value] = i\n",
    "                    i+=1\n",
    "                        \n",
    "\n",
    "    def construct_pdg(self, java_code):\n",
    "        tree = javalang.parse.parse(java_code)\n",
    "        symbol_table = {}\n",
    "        self._populate_symbol_table(tree, symbol_table)\n",
    "       \n",
    "        self._traverse_ast(tree, symbol_table)\n",
    "        \n",
    "        \n",
    "    def generate_dot(self):\n",
    "        dot_code = 'digraph PDG {\\n'\n",
    "        dot_code += 'node [shape=box];\\n'\n",
    "        for node in self.nodes:\n",
    "            dot_code += f'{node.node_id} [label=\"{node.node_type}\"];\\n'\n",
    "        dot_code += '\\n'\n",
    "        for edge in self.edges:\n",
    "            src_node_id, dest_node_id, edge_type = edge\n",
    "            dot_code += f'{src_node_id} -> {dest_node_id} [style=\"{edge_type}\"];\\n'\n",
    "        dot_code += '}'\n",
    "        return dot_code\n",
    "\n",
    "    def _traverse_ast(self, tree, symbol_table):\n",
    "        i=0\n",
    "        prev_node=i\n",
    "        for path, node in tree:\n",
    "            \n",
    "                    \n",
    "                  \n",
    "                    if isinstance(node, javalang.tree.VariableDeclarator):\n",
    "                        variable_name = node.name\n",
    "                        if node.initializer:\n",
    "                            self._traverse_ast(node.initializer, symbol_table)\n",
    "                            \n",
    "                            initializer_node = symbol_table[node.initializer]\n",
    "                            variable_node = self.add_node('VARIABLE', variable_name,i)\n",
    "                            symbol_table[variable_name] = variable_node\n",
    "                            self.add_edge(initializer_node, i, 'dotted')\n",
    "                       \n",
    "                    if isinstance(node, javalang.tree.Assignment):\n",
    "                        self._traverse_ast(node.value, symbol_table)\n",
    "                        value_node = symbol_table[node.value]\n",
    "                        variable_node = self.add_node('Assignment',i=i)\n",
    "                        self.add_edge(value_node, i, 'dotted')\n",
    "                        \n",
    "                    if isinstance(node, javalang.tree.MethodInvocation):\n",
    "                        for argument in node.arguments:\n",
    "                            self._traverse_ast(argument, symbol_table)\n",
    "                            argument_node = symbol_table[argument]\n",
    "                            variable_node = self.add_node('METHOD',i=i)\n",
    "                            self.add_edge(argument_node, i, 'dotted')\n",
    "                            \n",
    "                    if isinstance(node, javalang.tree.IfStatement):\n",
    "                       \n",
    "                        if_node = self.add_node('IF', str(node.position.line),i=i)\n",
    "                        self.add_edge(prev_node, i, 'solid')\n",
    "                        \n",
    "\n",
    "                        self._traverse_ast(node.then_statement, symbol_table)\n",
    "\n",
    "                        if node.else_statement:\n",
    "                            else_node = self.add_node('ELSE', str(node.position.line),i=i)\n",
    "                            self.add_edge(prev_node, i, 'solid')\n",
    "                            \n",
    "                            self._traverse_ast(node.else_statement, symbol_table)\n",
    "\n",
    "                    if isinstance(node, javalang.tree.WhileStatement):\n",
    "                            while_node = self.add_node('WHILE', str(node.position.line),i=i)\n",
    "                            self.add_edge(prev_node, i, 'solid')\n",
    "                            self._traverse_ast(node.body, symbol_table)\n",
    "                            \n",
    "                    if isinstance(node, javalang.tree.DoStatement):\n",
    "                            do_node = self.add_node('DO',i=i)\n",
    "                            self.add_edge(prev_node, i, 'solid')\n",
    "                            self._traverse_ast(node.body, symbol_table)\n",
    "\n",
    "                    if isinstance(node, javalang.tree.ForStatement):\n",
    "                            for_node = self.add_node('FOR',i=i)\n",
    "                            self.add_edge(prev_node, i, 'solid')\n",
    "                            self._traverse_ast(node.body, symbol_table)\n",
    "                            \n",
    "                            \n",
    "\n",
    "\n",
    "                    else:\n",
    "                        for child_node in node.children:\n",
    "                            if isinstance(child_node, javalang.tree.Node):\n",
    "                                self._traverse_ast(child_node, symbol_table)\n",
    "                    i+=1\n"
   ]
  },
  {
   "cell_type": "code",
   "execution_count": 3,
   "id": "04dc331e",
   "metadata": {},
   "outputs": [],
   "source": [
    "#Création des PDG java des fichiers\n",
    "\n",
    "import os\n",
    "from os import listdir\n",
    "from os.path import isfile, join\n",
    "import subprocess\n",
    "import glob\n",
    "\n",
    "\n",
    "pdg_constructor = PDGConstructor()\n",
    "os.environ[\"PATH\"] += os.pathsep + \"Graphviz/bin/\"\n",
    "dir= \"./java\"\n",
    "subdirs1=glob.glob(dir+\"\\*\\\\non-plagiarized\\*\\*.java\", recursive = True)\n",
    "subdirs2=glob.glob(dir+\"\\*\\original\\*.java\", recursive = True)\n",
    "subdirs3=glob.glob(dir+\"\\*\\plagiarized\\*\\*\\*.java\", recursive = True)\n",
    "subdirs=subdirs1+subdirs2+subdirs3\n",
    "\n",
    "\n",
    "def create_pdg_java ():\n",
    "       \n",
    "           \n",
    "            \n",
    "            i=0\n",
    "            for file in subdirs :\n",
    "                \n",
    "                       \n",
    "                            file=file.replace(\"\\\\\",\"/\")\n",
    "                            print(file)\n",
    "                            if \"non-plagiarized\" in file:\n",
    "                                base=os.path.split(os.path.split(file)[0])[0]\n",
    "                                file_name=os.path.split(os.path.split(file)[0])[1]\n",
    "                            if \"original\" in file:\n",
    "                                base=os.path.split(file)[0]\n",
    "                                file_name=os.path.split(file)[1]\n",
    "                                \n",
    "                            if \"/plagiarized\" in file:\n",
    "                                base=os.path.split(os.path.split(os.path.split(file)[0])[0])[0]\n",
    "                                file_name=os.path.split(os.path.split(os.path.split(file)[0])[0])[1]\n",
    "                \n",
    "                           \n",
    "                           \n",
    "                            \n",
    "                            with open(file, \"r\") as source:  \n",
    "                                code =source.read()\n",
    "\n",
    "\n",
    "                            #Générer un PDG \n",
    "                            pdg_constructor.construct_pdg(code)\n",
    "                            pdg_dot = pdg_constructor.generate_dot()\n",
    "\n",
    "                            #sauvegrader en format dot\n",
    "                            output= base+'/dot/output_'+file_name+str(i)+'.dot'\n",
    "                            if not os.path.exists(os.path.dirname(base+'/dot/')):\n",
    "                                        os.mkdir(base+'/dot')\n",
    "\n",
    "\n",
    "                            with open(output, 'w') as f:\n",
    "                                    f.write(str(pdg_dot))\n",
    "\n",
    "                            output_json=  base+'/json/output_'+file_name+str(i)+'.json'\n",
    "                            if not os.path.exists(os.path.dirname(base+'/json/')):\n",
    "                                        os.mkdir(base+'/json/')\n",
    "\n",
    "                            #Convertir le dot en JSON\n",
    "                            subprocess.run(['dot', '-Txdot_json', '-o', output_json, output], shell = True)\n",
    "                            i+=1\n",
    "\n"
   ]
  },
  {
   "cell_type": "code",
   "execution_count": 4,
   "id": "247032d4",
   "metadata": {},
   "outputs": [
    {
     "name": "stdout",
     "output_type": "stream",
     "text": [
      "./java/case-01/non-plagiarized/01/T01.java\n",
      "./java/case-01/non-plagiarized/02/T01.java\n",
      "./java/case-01/non-plagiarized/03/Nomor1_2451041557A22145B3701B0184109CAB013.java\n",
      "./java/case-01/non-plagiarized/04/T01.java\n",
      "./java/case-01/non-plagiarized/05/T01.java\n",
      "./java/case-01/non-plagiarized/06/T01.java\n",
      "./java/case-01/non-plagiarized/07/Main.java\n",
      "./java/case-01/non-plagiarized/08/T01.java\n",
      "./java/case-01/non-plagiarized/09/t01.java\n",
      "./java/case-01/non-plagiarized/10/Main.java\n",
      "./java/case-01/non-plagiarized/11/T01.java\n",
      "./java/case-01/non-plagiarized/12/T01.java\n",
      "./java/case-01/non-plagiarized/13/No1.java\n",
      "./java/case-01/non-plagiarized/14/Soal1.java\n",
      "./java/case-01/non-plagiarized/15/T01.java\n",
      "./java/case-02/non-plagiarized/01/T02.java\n",
      "./java/case-02/non-plagiarized/02/T02.java\n",
      "./java/case-02/non-plagiarized/03/Nomor2_2451041557A22145B3701B0184109CAB013.java\n",
      "./java/case-02/non-plagiarized/04/T02.java\n",
      "./java/case-02/non-plagiarized/05/T02.java\n",
      "./java/case-02/non-plagiarized/06/T02.java\n",
      "./java/case-02/non-plagiarized/07/Main.java\n",
      "./java/case-02/non-plagiarized/08/T02.java\n",
      "./java/case-02/non-plagiarized/09/t02.java\n",
      "./java/case-02/non-plagiarized/10/Main.java\n",
      "./java/case-02/non-plagiarized/11/T02.java\n",
      "./java/case-02/non-plagiarized/12/T02.java\n",
      "./java/case-02/non-plagiarized/13/No2.java\n",
      "./java/case-02/non-plagiarized/14/Soal2.java\n",
      "./java/case-02/non-plagiarized/15/T02.java\n",
      "./java/case-03/non-plagiarized/01/T03.java\n",
      "./java/case-03/non-plagiarized/02/T03.java\n",
      "./java/case-03/non-plagiarized/03/Nomor3_2451041557A22145B3701B0184109CAB013.java\n",
      "./java/case-03/non-plagiarized/04/T03.java\n",
      "./java/case-03/non-plagiarized/05/T03.java\n",
      "./java/case-03/non-plagiarized/06/T03.java\n",
      "./java/case-03/non-plagiarized/07/Main.java\n",
      "./java/case-03/non-plagiarized/08/T03.java\n",
      "./java/case-03/non-plagiarized/09/t03.java\n",
      "./java/case-03/non-plagiarized/10/Main.java\n",
      "./java/case-03/non-plagiarized/11/T03.java\n",
      "./java/case-03/non-plagiarized/12/T03.java\n",
      "./java/case-03/non-plagiarized/13/No3.java\n",
      "./java/case-03/non-plagiarized/14/Soal3.java\n",
      "./java/case-03/non-plagiarized/15/T03.java\n",
      "./java/case-04/non-plagiarized/01/T04.java\n",
      "./java/case-04/non-plagiarized/02/T04.java\n",
      "./java/case-04/non-plagiarized/03/Nomor4_2451041557A22145B3701B0184109CAB013.java\n",
      "./java/case-04/non-plagiarized/04/T04.java\n",
      "./java/case-04/non-plagiarized/05/T04.java\n",
      "./java/case-04/non-plagiarized/06/T04.java\n",
      "./java/case-04/non-plagiarized/07/Main.java\n",
      "./java/case-04/non-plagiarized/08/T04.java\n",
      "./java/case-04/non-plagiarized/09/t04.java\n",
      "./java/case-04/non-plagiarized/10/Main.java\n",
      "./java/case-04/non-plagiarized/11/T04.java\n",
      "./java/case-04/non-plagiarized/12/T04.java\n",
      "./java/case-04/non-plagiarized/13/No4.java\n",
      "./java/case-04/non-plagiarized/14/Soal4.java\n",
      "./java/case-04/non-plagiarized/15/T04.java\n",
      "./java/case-05/non-plagiarized/01/T05.java\n",
      "./java/case-05/non-plagiarized/02/T05.java\n",
      "./java/case-05/non-plagiarized/03/Nomor5_2451041557A22145B3701B0184109CAB013.java\n",
      "./java/case-05/non-plagiarized/04/T05.java\n",
      "./java/case-05/non-plagiarized/05/T05.java\n",
      "./java/case-05/non-plagiarized/06/T05.java\n",
      "./java/case-05/non-plagiarized/07/Main.java\n",
      "./java/case-05/non-plagiarized/08/T05.java\n",
      "./java/case-05/non-plagiarized/09/t05.java\n",
      "./java/case-05/non-plagiarized/10/Main.java\n",
      "./java/case-05/non-plagiarized/11/T05.java\n",
      "./java/case-05/non-plagiarized/12/T05.java\n",
      "./java/case-05/non-plagiarized/13/No5.java\n",
      "./java/case-05/non-plagiarized/14/Soal5.java\n",
      "./java/case-05/non-plagiarized/15/T05.java\n",
      "./java/case-06/non-plagiarized/01/T06.java\n",
      "./java/case-06/non-plagiarized/02/T06.java\n",
      "./java/case-06/non-plagiarized/03/Nomor6_2451041557A22145B3701B0184109CAB013.java\n",
      "./java/case-06/non-plagiarized/04/T06.java\n",
      "./java/case-06/non-plagiarized/05/T06.java\n",
      "./java/case-06/non-plagiarized/06/T06.java\n",
      "./java/case-06/non-plagiarized/07/Main.java\n",
      "./java/case-06/non-plagiarized/08/T06.java\n",
      "./java/case-06/non-plagiarized/09/t06.java\n",
      "./java/case-06/non-plagiarized/10/Main.java\n",
      "./java/case-06/non-plagiarized/11/T06.java\n",
      "./java/case-06/non-plagiarized/12/T06.java\n",
      "./java/case-06/non-plagiarized/13/No6.java\n",
      "./java/case-06/non-plagiarized/14/Soal6.java\n",
      "./java/case-06/non-plagiarized/15/T06.java\n",
      "./java/case-07/non-plagiarized/01/T07.java\n",
      "./java/case-07/non-plagiarized/02/T07.java\n",
      "./java/case-07/non-plagiarized/03/Nomor7_2451041557A22145B3701B0184109CAB013.java\n",
      "./java/case-07/non-plagiarized/04/T07.java\n",
      "./java/case-07/non-plagiarized/05/T07.java\n",
      "./java/case-07/non-plagiarized/06/T07.java\n",
      "./java/case-07/non-plagiarized/07/Main.java\n",
      "./java/case-07/non-plagiarized/08/T07.java\n",
      "./java/case-07/non-plagiarized/09/t07.java\n",
      "./java/case-07/non-plagiarized/10/Main.java\n",
      "./java/case-07/non-plagiarized/11/T07.java\n",
      "./java/case-07/non-plagiarized/12/T07.java\n",
      "./java/case-07/non-plagiarized/13/No7.java\n",
      "./java/case-07/non-plagiarized/14/Soal7.java\n",
      "./java/case-07/non-plagiarized/15/T07.java\n",
      "./java/case-01/original/T1.java\n",
      "./java/case-02/original/T2.java\n",
      "./java/case-03/original/T3.java\n",
      "./java/case-04/original/T4.java\n",
      "./java/case-05/original/T5.java\n",
      "./java/case-06/original/T6.java\n",
      "./java/case-07/original/T7.java\n",
      "./java/case-01/plagiarized/L1/01/L1.java\n",
      "./java/case-01/plagiarized/L1/02/Main.java\n",
      "./java/case-01/plagiarized/L1/03/Main.java\n",
      "./java/case-01/plagiarized/L1/04/T1.java\n",
      "./java/case-01/plagiarized/L1/05/HelloWorld.java\n",
      "./java/case-01/plagiarized/L1/06/HelloWorld.java\n",
      "./java/case-01/plagiarized/L1/07/Main.java\n",
      "./java/case-01/plagiarized/L1/08/Kasus1L1.java\n",
      "./java/case-01/plagiarized/L1/09/Level1.java\n",
      "./java/case-01/plagiarized/L2/01/L2.java\n",
      "./java/case-01/plagiarized/L2/02/Main.java\n",
      "./java/case-01/plagiarized/L2/03/WelcomeToJava.java\n",
      "./java/case-01/plagiarized/L2/04/hellow.java\n",
      "./java/case-01/plagiarized/L2/05/PrintJava.java\n",
      "./java/case-01/plagiarized/L3/01/L3.java\n",
      "./java/case-01/plagiarized/L3/02/Main.java\n",
      "./java/case-01/plagiarized/L3/03/HelloWorld.java\n",
      "./java/case-01/plagiarized/L3/04/hellow.java\n",
      "./java/case-01/plagiarized/L3/05/Kasus1L3.java\n",
      "./java/case-01/plagiarized/L3/06/Level3.java\n",
      "./java/case-01/plagiarized/L4/01/L4.java\n",
      "./java/case-01/plagiarized/L4/02/Main.java\n",
      "./java/case-01/plagiarized/L4/03/Main.java\n",
      "./java/case-01/plagiarized/L4/04/HelloWorld.java\n",
      "./java/case-01/plagiarized/L4/05/hellow.java\n",
      "./java/case-01/plagiarized/L4/06/Level4.java\n",
      "./java/case-01/plagiarized/L5/01/L5.java\n",
      "./java/case-01/plagiarized/L5/02/Main.java\n",
      "./java/case-01/plagiarized/L5/03/WelcomeToJava.java\n",
      "./java/case-01/plagiarized/L5/04/hellow.java\n",
      "./java/case-01/plagiarized/L5/05/PrintJava.java\n",
      "./java/case-01/plagiarized/L6/01/L6.java\n",
      "./java/case-01/plagiarized/L6/02/Main.java\n",
      "./java/case-01/plagiarized/L6/03/Main.java\n",
      "./java/case-01/plagiarized/L6/04/WelcomeToJava.java\n",
      "./java/case-01/plagiarized/L6/05/HelloWorld.java\n",
      "./java/case-01/plagiarized/L6/06/hellow.java\n",
      "./java/case-01/plagiarized/L6/07/PrintJava.java\n",
      "./java/case-01/plagiarized/L6/08/Kasus1L6.java\n",
      "./java/case-01/plagiarized/L6/09/Level6.java\n",
      "./java/case-02/plagiarized/L1/01/L1.java\n",
      "./java/case-02/plagiarized/L1/02/Main.java\n",
      "./java/case-02/plagiarized/L1/03/Main.java\n",
      "./java/case-02/plagiarized/L1/04/Kasus2.java\n",
      "./java/case-02/plagiarized/L1/05/inputoutput.java\n",
      "./java/case-02/plagiarized/L1/06/inputoutput.java\n",
      "./java/case-02/plagiarized/L1/07/Main.java\n",
      "./java/case-02/plagiarized/L1/08/Kasus2L1.java\n",
      "./java/case-02/plagiarized/L1/09/Level1.java\n",
      "./java/case-02/plagiarized/L2/01/L2.java\n",
      "./java/case-02/plagiarized/L2/02/Main.java\n",
      "./java/case-02/plagiarized/L2/03/Main.java\n",
      "./java/case-02/plagiarized/L2/04/Kasus2.java\n",
      "./java/case-02/plagiarized/L2/05/inputoutput.java\n",
      "./java/case-02/plagiarized/L2/06/inout.java\n",
      "./java/case-02/plagiarized/L2/07/Main.java\n",
      "./java/case-02/plagiarized/L2/08/Kasus2L2.java\n",
      "./java/case-02/plagiarized/L2/09/Level2.java\n",
      "./java/case-02/plagiarized/L3/01/L3.java\n",
      "./java/case-02/plagiarized/L3/02/Main.java\n",
      "./java/case-02/plagiarized/L3/03/Main.java\n",
      "./java/case-02/plagiarized/L3/04/Kasus2.java\n",
      "./java/case-02/plagiarized/L3/05/inputoutput.java\n",
      "./java/case-02/plagiarized/L3/06/inout.java\n",
      "./java/case-02/plagiarized/L3/07/Main.java\n",
      "./java/case-02/plagiarized/L3/08/Kasus2L3.java\n",
      "./java/case-02/plagiarized/L3/09/Level3.java\n",
      "./java/case-02/plagiarized/L4/01/L4.java\n",
      "./java/case-02/plagiarized/L4/02/Main.java\n",
      "./java/case-02/plagiarized/L4/03/Main.java\n",
      "./java/case-02/plagiarized/L4/04/Kasus2.java\n"
     ]
    },
    {
     "name": "stdout",
     "output_type": "stream",
     "text": [
      "./java/case-02/plagiarized/L4/05/inputoutput.java\n",
      "./java/case-02/plagiarized/L4/06/inout.java\n",
      "./java/case-02/plagiarized/L4/07/Main.java\n",
      "./java/case-02/plagiarized/L4/08/Kasus2L4.java\n",
      "./java/case-02/plagiarized/L4/09/Level4.java\n",
      "./java/case-02/plagiarized/L5/01/L5.java\n",
      "./java/case-02/plagiarized/L5/02/Main.java\n",
      "./java/case-02/plagiarized/L5/03/Main.java\n",
      "./java/case-02/plagiarized/L5/04/Kasus2.java\n",
      "./java/case-02/plagiarized/L5/05/inputoutput.java\n",
      "./java/case-02/plagiarized/L5/06/inout.java\n",
      "./java/case-02/plagiarized/L5/07/Main.java\n",
      "./java/case-02/plagiarized/L5/08/Kasus2L5.java\n",
      "./java/case-02/plagiarized/L5/09/Level5.java\n",
      "./java/case-02/plagiarized/L6/01/L6.java\n",
      "./java/case-02/plagiarized/L6/02/Main.java\n",
      "./java/case-02/plagiarized/L6/03/Main.java\n",
      "./java/case-02/plagiarized/L6/04/Kasus2.java\n",
      "./java/case-02/plagiarized/L6/05/inputoutput.java\n",
      "./java/case-02/plagiarized/L6/06/inout.java\n",
      "./java/case-02/plagiarized/L6/07/Main.java\n",
      "./java/case-02/plagiarized/L6/08/Kasus2L6.java\n",
      "./java/case-02/plagiarized/L6/09/Level6.java\n",
      "./java/case-03/plagiarized/L1/01/L1.java\n",
      "./java/case-03/plagiarized/L1/02/Main.java\n",
      "./java/case-03/plagiarized/L1/03/Main.java\n",
      "./java/case-03/plagiarized/L1/04/percabangan.java\n",
      "./java/case-03/plagiarized/L1/05/percabangan.java\n",
      "./java/case-03/plagiarized/L1/06/Main.java\n",
      "./java/case-03/plagiarized/L1/07/Kasus3L1.java\n",
      "./java/case-03/plagiarized/L1/08/Level1.java\n",
      "./java/case-03/plagiarized/L2/01/L2.java\n",
      "./java/case-03/plagiarized/L2/02/Main.java\n",
      "./java/case-03/plagiarized/L2/03/Main.java\n",
      "./java/case-03/plagiarized/L2/04/Kasus3.java\n",
      "./java/case-03/plagiarized/L2/05/inputoutput.java\n",
      "./java/case-03/plagiarized/L2/06/cabang.java\n",
      "./java/case-03/plagiarized/L2/07/Main.java\n",
      "./java/case-03/plagiarized/L2/08/Kasus3L2.java\n",
      "./java/case-03/plagiarized/L2/09/Level2.java\n",
      "./java/case-03/plagiarized/L3/01/L3.java\n",
      "./java/case-03/plagiarized/L3/02/Main.java\n",
      "./java/case-03/plagiarized/L3/03/Kasus3.java\n",
      "./java/case-03/plagiarized/L3/04/inputoutput.java\n",
      "./java/case-03/plagiarized/L3/05/cabang.java\n",
      "./java/case-03/plagiarized/L3/06/Main.java\n",
      "./java/case-03/plagiarized/L3/07/Kasus3L3.java\n",
      "./java/case-03/plagiarized/L3/08/Level3.java\n",
      "./java/case-03/plagiarized/L4/01/L4.java\n",
      "./java/case-03/plagiarized/L4/02/Main.java\n",
      "./java/case-03/plagiarized/L4/03/Main.java\n",
      "./java/case-03/plagiarized/L4/04/Kasus3.java\n",
      "./java/case-03/plagiarized/L4/05/inputoutput.java\n",
      "./java/case-03/plagiarized/L4/06/cabang.java\n",
      "./java/case-03/plagiarized/L4/07/Main.java\n",
      "./java/case-03/plagiarized/L4/08/Kasus3L4.java\n",
      "./java/case-03/plagiarized/L4/09/Level4.java\n",
      "./java/case-03/plagiarized/L5/01/L5.java\n",
      "./java/case-03/plagiarized/L5/02/Main.java\n",
      "./java/case-03/plagiarized/L5/03/Main.java\n",
      "./java/case-03/plagiarized/L5/04/Kasus3.java\n",
      "./java/case-03/plagiarized/L5/05/percabangan.java\n",
      "./java/case-03/plagiarized/L5/06/cabang.java\n",
      "./java/case-03/plagiarized/L5/07/Main.java\n",
      "./java/case-03/plagiarized/L5/08/Kasus3L5.java\n",
      "./java/case-03/plagiarized/L5/09/Level5.java\n",
      "./java/case-03/plagiarized/L6/01/L6.java\n",
      "./java/case-03/plagiarized/L6/02/Main.java\n",
      "./java/case-03/plagiarized/L6/03/Main.java\n",
      "./java/case-03/plagiarized/L6/04/Kasus3.java\n",
      "./java/case-03/plagiarized/L6/05/percabangan.java\n",
      "./java/case-03/plagiarized/L6/06/cabang.java\n",
      "./java/case-03/plagiarized/L6/07/Main.java\n",
      "./java/case-03/plagiarized/L6/08/Kasus3L6.java\n",
      "./java/case-03/plagiarized/L6/09/Level6.java\n",
      "./java/case-04/plagiarized/L1/01/L1.java\n",
      "./java/case-04/plagiarized/L1/02/Main.java\n",
      "./java/case-04/plagiarized/L1/03/Main.java\n",
      "./java/case-04/plagiarized/L1/04/Kasus4.java\n",
      "./java/case-04/plagiarized/L1/05/pengulangan.java\n",
      "./java/case-04/plagiarized/L1/06/pengulangan.java\n",
      "./java/case-04/plagiarized/L1/07/Main.java\n",
      "./java/case-04/plagiarized/L1/08/Kasus4L1.java\n",
      "./java/case-04/plagiarized/L1/09/Level1.java\n",
      "./java/case-04/plagiarized/L2/01/L2.java\n",
      "./java/case-04/plagiarized/L2/02/Main.java\n",
      "./java/case-04/plagiarized/L2/03/Main.java\n",
      "./java/case-04/plagiarized/L2/04/Kasus4.java\n",
      "./java/case-04/plagiarized/L2/05/pengulangan.java\n",
      "./java/case-04/plagiarized/L2/06/looping.java\n",
      "./java/case-04/plagiarized/L2/07/Main.java\n",
      "./java/case-04/plagiarized/L2/08/Kasus4L2.java\n",
      "./java/case-04/plagiarized/L2/09/Level2.java\n",
      "./java/case-04/plagiarized/L3/01/L3.java\n",
      "./java/case-04/plagiarized/L3/02/Main.java\n",
      "./java/case-04/plagiarized/L3/03/Main.java\n",
      "./java/case-04/plagiarized/L3/04/Kasus4.java\n",
      "./java/case-04/plagiarized/L3/05/pengulangan.java\n",
      "./java/case-04/plagiarized/L3/06/looping.java\n",
      "./java/case-04/plagiarized/L3/07/Main.java\n",
      "./java/case-04/plagiarized/L3/08/Kasus4L3.java\n",
      "./java/case-04/plagiarized/L3/09/Level3.java\n",
      "./java/case-04/plagiarized/L4/01/L4.java\n",
      "./java/case-04/plagiarized/L4/02/Main.java\n",
      "./java/case-04/plagiarized/L4/03/Main.java\n",
      "./java/case-04/plagiarized/L4/04/Kasus4.java\n",
      "./java/case-04/plagiarized/L4/05/pengulangan.java\n",
      "./java/case-04/plagiarized/L4/06/looping.java\n",
      "./java/case-04/plagiarized/L4/07/Main.java\n",
      "./java/case-04/plagiarized/L4/08/Kasus4L4.java\n",
      "./java/case-04/plagiarized/L4/09/Level4.java\n",
      "./java/case-04/plagiarized/L5/01/L5.java\n",
      "./java/case-04/plagiarized/L5/02/Main.java\n",
      "./java/case-04/plagiarized/L5/03/Main.java\n",
      "./java/case-04/plagiarized/L5/04/Kasus4.java\n",
      "./java/case-04/plagiarized/L5/05/pengulangan.java\n",
      "./java/case-04/plagiarized/L5/06/looping.java\n",
      "./java/case-04/plagiarized/L5/07/Main.java\n",
      "./java/case-04/plagiarized/L5/08/Kasus4L5.java\n",
      "./java/case-04/plagiarized/L5/09/Level5.java\n",
      "./java/case-04/plagiarized/L6/01/L6.java\n",
      "./java/case-04/plagiarized/L6/02/Main.java\n",
      "./java/case-04/plagiarized/L6/03/Main.java\n",
      "./java/case-04/plagiarized/L6/04/Kasus4.java\n",
      "./java/case-04/plagiarized/L6/05/pengulangan.java\n",
      "./java/case-04/plagiarized/L6/06/looping.java\n",
      "./java/case-04/plagiarized/L6/07/Main.java\n",
      "./java/case-04/plagiarized/L6/08/Kasus4L6.java\n",
      "./java/case-04/plagiarized/L6/09/Level6.java\n",
      "./java/case-05/plagiarized/L1/01/L1.java\n",
      "./java/case-05/plagiarized/L1/02/Main.java\n",
      "./java/case-05/plagiarized/L1/03/Main.java\n",
      "./java/case-05/plagiarized/L1/04/Kasus5.java\n",
      "./java/case-05/plagiarized/L1/05/method.java\n",
      "./java/case-05/plagiarized/L1/06/method.java\n",
      "./java/case-05/plagiarized/L1/07/Main.java\n",
      "./java/case-05/plagiarized/L1/08/Kasus5L1.java\n",
      "./java/case-05/plagiarized/L1/09/Level1.java\n",
      "./java/case-05/plagiarized/L2/01/L2.java\n",
      "./java/case-05/plagiarized/L2/02/Main.java\n",
      "./java/case-05/plagiarized/L2/03/Main.java\n",
      "./java/case-05/plagiarized/L2/04/method.java\n",
      "./java/case-05/plagiarized/L2/05/fungsi.java\n",
      "./java/case-05/plagiarized/L2/06/Main.java\n",
      "./java/case-05/plagiarized/L2/07/Kasus5L2.java\n",
      "./java/case-05/plagiarized/L2/08/Level2.java\n",
      "./java/case-05/plagiarized/L3/01/L3.java\n",
      "./java/case-05/plagiarized/L3/02/Main.java\n",
      "./java/case-05/plagiarized/L3/03/Main.java\n",
      "./java/case-05/plagiarized/L3/04/Kasus5.java\n",
      "./java/case-05/plagiarized/L3/05/method.java\n",
      "./java/case-05/plagiarized/L3/06/fungsi.java\n",
      "./java/case-05/plagiarized/L3/07/Main.java\n",
      "./java/case-05/plagiarized/L3/08/Kasus5L3.java\n",
      "./java/case-05/plagiarized/L3/09/Level3.java\n",
      "./java/case-05/plagiarized/L4/01/L4.java\n",
      "./java/case-05/plagiarized/L4/02/Main.java\n",
      "./java/case-05/plagiarized/L4/03/Main.java\n",
      "./java/case-05/plagiarized/L4/04/Kasus5.java\n",
      "./java/case-05/plagiarized/L4/05/method.java\n",
      "./java/case-05/plagiarized/L4/06/fungsi.java\n",
      "./java/case-05/plagiarized/L4/07/Main.java\n",
      "./java/case-05/plagiarized/L4/08/Kasus5L4.java\n",
      "./java/case-05/plagiarized/L4/09/Level4.java\n",
      "./java/case-05/plagiarized/L5/01/L5.java\n",
      "./java/case-05/plagiarized/L5/02/Main.java\n",
      "./java/case-05/plagiarized/L5/03/Main.java\n",
      "./java/case-05/plagiarized/L5/04/Kasus5.java\n",
      "./java/case-05/plagiarized/L5/05/method.java\n",
      "./java/case-05/plagiarized/L5/06/fungsi.java\n",
      "./java/case-05/plagiarized/L5/07/Main.java\n",
      "./java/case-05/plagiarized/L5/08/Kasus5L5.java\n",
      "./java/case-05/plagiarized/L5/09/Level5.java\n",
      "./java/case-05/plagiarized/L6/01/L6_fix.java\n",
      "./java/case-05/plagiarized/L6/02/Main.java\n",
      "./java/case-05/plagiarized/L6/03/Main.java\n",
      "./java/case-05/plagiarized/L6/04/Kasus5.java\n",
      "./java/case-05/plagiarized/L6/05/method.java\n",
      "./java/case-05/plagiarized/L6/06/fungsi.java\n",
      "./java/case-05/plagiarized/L6/07/Main.java\n",
      "./java/case-05/plagiarized/L6/08/Kasus5L6.java\n",
      "./java/case-05/plagiarized/L6/09/Level6.java\n",
      "./java/case-06/plagiarized/L1/01/L1.java\n",
      "./java/case-06/plagiarized/L1/02/Main.java\n"
     ]
    },
    {
     "name": "stdout",
     "output_type": "stream",
     "text": [
      "./java/case-06/plagiarized/L1/03/Main.java\n",
      "./java/case-06/plagiarized/L1/04/singlearray.java\n",
      "./java/case-06/plagiarized/L1/05/singlearray.java\n",
      "./java/case-06/plagiarized/L1/06/Main.java\n",
      "./java/case-06/plagiarized/L1/07/Kasus6L1.java\n",
      "./java/case-06/plagiarized/L1/08/Level1.java\n",
      "./java/case-06/plagiarized/L2/01/L2_6.java\n",
      "./java/case-06/plagiarized/L2/02/Main.java\n",
      "./java/case-06/plagiarized/L2/03/Main.java\n",
      "./java/case-06/plagiarized/L2/04/singlearray.java\n",
      "./java/case-06/plagiarized/L2/05/TestSatuArray.java\n",
      "./java/case-06/plagiarized/L2/06/Main.java\n",
      "./java/case-06/plagiarized/L2/07/Kasus6L2.java\n",
      "./java/case-06/plagiarized/L2/08/Level2.java\n",
      "./java/case-06/plagiarized/L3/01/L3.java\n",
      "./java/case-06/plagiarized/L3/02/Main.java\n",
      "./java/case-06/plagiarized/L3/03/Main.java\n",
      "./java/case-06/plagiarized/L3/04/singlearray.java\n",
      "./java/case-06/plagiarized/L3/05/TestSatuArray.java\n",
      "./java/case-06/plagiarized/L3/06/Main.java\n",
      "./java/case-06/plagiarized/L3/07/Kasus6L3.java\n",
      "./java/case-06/plagiarized/L3/08/Level3.java\n",
      "./java/case-06/plagiarized/L4/01/L4.java\n",
      "./java/case-06/plagiarized/L4/02/Main.java\n",
      "./java/case-06/plagiarized/L4/03/Main.java\n",
      "./java/case-06/plagiarized/L4/04/Kasus6.java\n",
      "./java/case-06/plagiarized/L4/05/singlearray.java\n",
      "./java/case-06/plagiarized/L4/06/TestSatuArray.java\n",
      "./java/case-06/plagiarized/L4/07/Main.java\n",
      "./java/case-06/plagiarized/L4/08/Kasus6L4.java\n",
      "./java/case-06/plagiarized/L4/09/Level4.java\n",
      "./java/case-06/plagiarized/L5/01/L5.java\n",
      "./java/case-06/plagiarized/L5/02/Main.java\n",
      "./java/case-06/plagiarized/L5/03/Main.java\n",
      "./java/case-06/plagiarized/L5/04/Kasus6.java\n",
      "./java/case-06/plagiarized/L5/05/singlearray.java\n",
      "./java/case-06/plagiarized/L5/06/TestSatuArray.java\n",
      "./java/case-06/plagiarized/L5/07/Main.java\n",
      "./java/case-06/plagiarized/L5/08/Kasus6L5.java\n",
      "./java/case-06/plagiarized/L5/09/Level5.java\n",
      "./java/case-06/plagiarized/L6/01/L6.java\n",
      "./java/case-06/plagiarized/L6/02/Main.java\n",
      "./java/case-06/plagiarized/L6/03/Main.java\n",
      "./java/case-06/plagiarized/L6/04/Kasus6.java\n",
      "./java/case-06/plagiarized/L6/05/singlearray.java\n",
      "./java/case-06/plagiarized/L6/06/TestSatuArray.java\n",
      "./java/case-06/plagiarized/L6/07/Main.java\n",
      "./java/case-06/plagiarized/L6/08/Kasus6L6.java\n",
      "./java/case-06/plagiarized/L6/09/Level6.java\n",
      "./java/case-07/plagiarized/L1/01/L1.java\n",
      "./java/case-07/plagiarized/L1/02/Main.java\n",
      "./java/case-07/plagiarized/L1/03/Main.java\n",
      "./java/case-07/plagiarized/L1/04/multiarray.java\n",
      "./java/case-07/plagiarized/L1/05/multiarray.java\n",
      "./java/case-07/plagiarized/L1/06/Main.java\n",
      "./java/case-07/plagiarized/L1/07/Kasus7L1.java\n",
      "./java/case-07/plagiarized/L1/08/Level1.java\n",
      "./java/case-07/plagiarized/L2/01/L2.java\n",
      "./java/case-07/plagiarized/L2/02/Main.java\n",
      "./java/case-07/plagiarized/L2/03/Main.java\n",
      "./java/case-07/plagiarized/L2/04/multiarray.java\n",
      "./java/case-07/plagiarized/L2/05/arraylebihdarisatu.java\n",
      "./java/case-07/plagiarized/L2/06/Main.java\n",
      "./java/case-07/plagiarized/L2/07/Kasus7L2.java\n",
      "./java/case-07/plagiarized/L2/08/Level2.java\n",
      "./java/case-07/plagiarized/L3/01/L3.java\n",
      "./java/case-07/plagiarized/L3/02/Main.java\n",
      "./java/case-07/plagiarized/L3/03/Main.java\n",
      "./java/case-07/plagiarized/L3/04/multiarray.java\n",
      "./java/case-07/plagiarized/L3/05/arraylebihdarisatu.java\n",
      "./java/case-07/plagiarized/L3/06/Main.java\n",
      "./java/case-07/plagiarized/L3/07/Kasus7L3.java\n",
      "./java/case-07/plagiarized/L3/08/Level3.java\n",
      "./java/case-07/plagiarized/L4/01/L4.java\n",
      "./java/case-07/plagiarized/L4/02/Main.java\n",
      "./java/case-07/plagiarized/L4/03/Main.java\n",
      "./java/case-07/plagiarized/L4/04/Kasus7.java\n",
      "./java/case-07/plagiarized/L4/05/multiarray.java\n",
      "./java/case-07/plagiarized/L4/06/arraylebihdarisatu.java\n",
      "./java/case-07/plagiarized/L4/07/Main.java\n",
      "./java/case-07/plagiarized/L4/08/Kasus7L4.java\n",
      "./java/case-07/plagiarized/L4/09/Level4.java\n",
      "./java/case-07/plagiarized/L5/01/L5.java\n",
      "./java/case-07/plagiarized/L5/02/Main.java\n",
      "./java/case-07/plagiarized/L5/03/Main.java\n",
      "./java/case-07/plagiarized/L5/04/Kasus7.java\n",
      "./java/case-07/plagiarized/L5/05/multiarray.java\n",
      "./java/case-07/plagiarized/L5/06/arraylebihdarisatu.java\n",
      "./java/case-07/plagiarized/L5/07/Main.java\n",
      "./java/case-07/plagiarized/L5/08/Kasus7L5.java\n",
      "./java/case-07/plagiarized/L5/09/Level5.java\n",
      "./java/case-07/plagiarized/L6/01/L6.java\n",
      "./java/case-07/plagiarized/L6/02/Main.java\n",
      "./java/case-07/plagiarized/L6/03/Main.java\n",
      "./java/case-07/plagiarized/L6/04/Kasus7.java\n",
      "./java/case-07/plagiarized/L6/05/multiarray.java\n",
      "./java/case-07/plagiarized/L6/06/arraylebihdarisatu.java\n",
      "./java/case-07/plagiarized/L6/07/Main.java\n",
      "./java/case-07/plagiarized/L6/08/Kasus7L6.java\n",
      "./java/case-07/plagiarized/L6/09/Level6.java\n"
     ]
    }
   ],
   "source": [
    "create_pdg_java()"
   ]
  },
  {
   "cell_type": "code",
   "execution_count": null,
   "id": "ac3e7e11",
   "metadata": {},
   "outputs": [],
   "source": []
  }
 ],
 "metadata": {
  "kernelspec": {
   "display_name": "Python 3 (ipykernel)",
   "language": "python",
   "name": "python3"
  },
  "language_info": {
   "codemirror_mode": {
    "name": "ipython",
    "version": 3
   },
   "file_extension": ".py",
   "mimetype": "text/x-python",
   "name": "python",
   "nbconvert_exporter": "python",
   "pygments_lexer": "ipython3",
   "version": "3.9.7"
  }
 },
 "nbformat": 4,
 "nbformat_minor": 5
}
