{
 "cells": [
  {
   "cell_type": "code",
   "execution_count": 2,
   "id": "5bc6d3fd",
   "metadata": {},
   "outputs": [],
   "source": [
    "\n",
    "import torch\n",
    "import numpy as np\n",
    "from torch_geometric.data import Data, Dataset\n",
    "from torch_geometric.nn import SAGEConv\n",
    "from sklearn.model_selection import train_test_split\n",
    "import random\n",
    "from tqdm import tqdm, trange\n",
    "import os \n",
    "import json\n",
    "import glob\n",
    "\n",
    "import math\n",
    "from sentence_transformers import SentenceTransformer\n",
    "\n",
    "\n"
   ]
  },
  {
   "cell_type": "markdown",
   "id": "3272eee6",
   "metadata": {},
   "source": [
    "# Création des données"
   ]
  },
  {
   "cell_type": "code",
   "execution_count": 3,
   "id": "d21cf9e6",
   "metadata": {},
   "outputs": [],
   "source": [
    "\n",
    "model_w2v = SentenceTransformer('all-mpnet-base-v2')\n",
    "\n",
    "class Data_pdg():\n",
    "        \n",
    " \n",
    "    def __init__(self, path, test_size=0.2):\n",
    "        self.path = path                   \n",
    "        self.X_train, self.X_test, self.y_train , self.y_test= self.split_train_test(test_size)\n",
    "        self.train_len, self.test_len = self.get_len() \n",
    "      \n",
    "    \n",
    "    def get_graph(self, file):\n",
    "        #print(file)\n",
    "\n",
    "        with open(file, \"r\") as source:\n",
    "            graph= json.load(source)\n",
    "\n",
    "        edges_cdg=[]\n",
    "        edges_ddg=[]\n",
    "        labels=[]\n",
    "       \n",
    "        key=\"label\"\n",
    "        index=0 \n",
    "        \n",
    "        \n",
    "        for obj in graph[\"objects\"]:\n",
    "            if not key in obj:\n",
    "                index+=1\n",
    "            else: \n",
    "                labels.append(obj[\"label\"])\n",
    "                \n",
    "\n",
    "\n",
    "        for edge in graph[\"edges\"]:\n",
    "            if edge[\"style\"]==\"solid\": \n",
    "                        edges_cdg.append([edge[\"head\"]-index, edge[\"tail\"]-index])\n",
    "            else:\n",
    "                        edges_ddg.append([edge[\"head\"]-index, edge[\"tail\"]-index])\n",
    "                    \n",
    "                    \n",
    "\n",
    "        return labels, edges_cdg, edges_ddg\n",
    "                         \n",
    "      \n",
    "    def get_labels(self, file):\n",
    "\n",
    "        with open(file, \"r\") as source:\n",
    "            graph= json.load(source)\n",
    "\n",
    "\n",
    "        labels=[]\n",
    "        key=\"label\"\n",
    "        for obj in graph[\"objects\"]:\n",
    "            if key in obj:\n",
    "                labels.append(obj[\"label\"])\n",
    "        return labels\n",
    "       \n",
    "    \n",
    "    \n",
    "    def get_all_labels(self):\n",
    "\n",
    "\n",
    "        files=[]\n",
    "        all_labels=set()\n",
    "\n",
    "        for dirpath, dirnames, files_names in os.walk(self.path):\n",
    "            if dirpath.endswith(\"json\"):\n",
    "                        files+=glob.glob(dirpath+\"\\*.json\")\n",
    "\n",
    "        for file in files :\n",
    "            all_labels=all_labels.union(set(self.get_labels(file)))\n",
    "\n",
    "        return all_labels\n",
    "\n",
    "\n",
    "    def get_graph_pairs(self):\n",
    "\n",
    "        graph_pairs=dict()\n",
    "        cases=glob.glob(self.path+\"\\*\", recursive = True)\n",
    "        for case in cases:\n",
    "            original=glob.glob(case+\"\\original\\json\\*.json\")\n",
    "            plagiarized=glob.glob(case+\"\\plagiarized\\json\\*.json\")\n",
    "            non_plagiarized=glob.glob(case+\"\\\\non-plagiarized\\json\\*.json\")\n",
    "            \n",
    "            graph_pairs.update({ plagiarized_code:{ \"original\" : original[0], \"target\": torch.tensor([1.0]).float()} for plagiarized_code in plagiarized })\n",
    "            graph_pairs.update({ non_plagiarized_code: { \"original\" : original[0], \"target\": torch.tensor([0.0]).float()}  for non_plagiarized_code in non_plagiarized })\n",
    "             \n",
    "       \n",
    "        \n",
    "        \n",
    "\n",
    "        return graph_pairs\n",
    "\n",
    "\n",
    "\n",
    "\n",
    "    def create_pair(self, graph1, graph_original):\n",
    "\n",
    "            graph_pair=dict()\n",
    "            labels_graph1=[]\n",
    "            labels_original=[]\n",
    "          \n",
    "            \n",
    "            \n",
    "            #fetch both graphs (labels+edges)\n",
    "            labels_graph1_string, edges_cdg_graph1, edges_ddg_graph1=self.get_graph(graph1)\n",
    "            labels_original_string, edges_cdg_original, edges_ddg_original=self.get_graph(graph_original)\n",
    " \n",
    "            \n",
    "            \n",
    "            #one hot encoding of labels of graph1              \n",
    "            for label in labels_graph1_string:\n",
    "                labels_graph1.append(model_w2v.encode(label))\n",
    "\n",
    "\n",
    "                  \n",
    "            #one hot encoding of labels of original graph  \n",
    "            for label in labels_original_string:\n",
    "                labels_original.append(model_w2v.encode(label))\n",
    "\n",
    "\n",
    "\n",
    "            edges_cdg_graph1= torch.from_numpy(np.array(edges_cdg_graph1, dtype=np.int64).T).type(torch.long)\n",
    "            edges_ddg_graph1= torch.from_numpy(np.array(edges_ddg_graph1, dtype=np.int64).T).type(torch.long)\n",
    "            edges_cdg_original= torch.from_numpy(np.array(edges_cdg_original, dtype=np.int64).T).type(torch.long)\n",
    "            edges_ddg_original= torch.from_numpy(np.array(edges_ddg_original, dtype=np.int64).T).type(torch.long)\n",
    "\n",
    "\n",
    "\n",
    "            graph_pair[\"labels_graph1\"]=torch.FloatTensor(np.array(labels_graph1))\n",
    "            graph_pair[\"labels_original\"]=torch.FloatTensor(np.array(labels_original))\n",
    "            graph_pair[\"edges_cdg_graph1\"]=edges_cdg_graph1\n",
    "            graph_pair[\"edges_ddg_graph1\"]=edges_ddg_graph1\n",
    "            graph_pair[\"edges_cdg_original\"]=edges_cdg_original\n",
    "            graph_pair[\"edges_ddg_original\"]=edges_ddg_original\n",
    "           \n",
    "\n",
    "            return graph_pair\n",
    "\n",
    "        \n",
    "\n",
    "    def create_all_pairs(self):\n",
    "            \n",
    "            graph_pairs=[]\n",
    "            targets=[]\n",
    "            pairs=self.get_graph_pairs()\n",
    "            length= len(pairs)\n",
    "\n",
    "            for graph1, graph_original in pairs.items():\n",
    "                graph_pair= self.create_pair(graph1, graph_original[\"original\"])\n",
    "                graph_pair[\"target\"]=graph_original[\"target\"].reshape(1, 1)\n",
    "                graph_pairs.append(graph_pair)\n",
    "                targets.append(graph_original[\"target\"].reshape(1, 1))\n",
    "\n",
    "                \n",
    "            return graph_pairs, targets , length\n",
    "        \n",
    "        \n",
    "    def split_train_test(self, test_size):\n",
    "        \n",
    "        \n",
    "            graph_pairs, targets , length = self.create_all_pairs()\n",
    "            \n",
    "            return train_test_split(graph_pairs, targets, test_size=test_size, random_state=42)\n",
    "            \n",
    "        \n",
    "    def get_len(self):\n",
    "        return len(self.X_train), len(self.X_test) \n",
    "        \n",
    "    def get_X_train(self):\n",
    "        return self.X_train\n",
    "    \n",
    "    def get_X_test(self):\n",
    "        return self.X_test\n",
    "    \n",
    "    def get_y_train(self):\n",
    "        return self.y_train\n",
    "    \n",
    "    def get_y_test(self):\n",
    "        return self.y_test\n",
    "    \n",
    "    \n",
    "\n",
    "            \n"
   ]
  },
  {
   "cell_type": "code",
   "execution_count": null,
   "id": "f670597b",
   "metadata": {},
   "outputs": [],
   "source": [
    "path=\"..\\Dataset\"\n",
    "data=Data_pdg(path, test_size=0.4)"
   ]
  },
  {
   "cell_type": "code",
   "execution_count": 29,
   "id": "19f718ee",
   "metadata": {},
   "outputs": [],
   "source": [
    "#lire les objets data sauvegardés\n",
    "\n",
    "import pickle\n",
    "\n",
    "with open('python_data.pkl', 'rb') as inp:\n",
    "    data = pickle.load(inp)\n",
    "    \n",
    "    \n",
    "with open('java_data.pkl', 'rb') as inp:\n",
    "    data2 = pickle.load(inp)"
   ]
  },
  {
   "cell_type": "markdown",
   "id": "b0270179",
   "metadata": {},
   "source": [
    "# Modèles"
   ]
  },
  {
   "cell_type": "markdown",
   "id": "bd0f6aa2",
   "metadata": {},
   "source": [
    "## SVM"
   ]
  },
  {
   "cell_type": "code",
   "execution_count": 37,
   "id": "a8da5798",
   "metadata": {},
   "outputs": [],
   "source": [
    "#GNN + SVM Classifier\n",
    "\n",
    "class GNN_SVM(torch.nn.Module):\n",
    "    \n",
    "    def __init__(self, number_labels):\n",
    "        super(GNN_SVM, self).__init__()\n",
    "        self.number_labels=number_labels\n",
    "        self.setup_layers()\n",
    "        \n",
    "    def setup_layers(self):\n",
    "        self.SAGEConv1= SAGEConv( self.number_labels, 256 , normalize=True)\n",
    "        self.SAGEConv2=SAGEConv( 256, 128 , normalize=True)\n",
    "        self.SAGEConv3=SAGEConv( 128, 64 , normalize=True)\n",
    "        self.Attention = Attention()\n",
    "        self.SVM = SVM()\n",
    "        self.fully_connected = torch.nn.Linear(32, 32)\n",
    "        self.classifier = torch.nn.Linear(32, 1)\n",
    "        \n",
    "        \n",
    "        \n",
    "    def nodes_embedding(self, labels, edges, p):\n",
    "        \n",
    "        \n",
    "        \n",
    "        embedding= self.SAGEConv1(labels, edges)\n",
    "        embedding= torch.nn.functional.relu(embedding)\n",
    "        embedding= torch.nn.functional.dropout(embedding, p=p)\n",
    "        \n",
    "        \n",
    "        embedding= self.SAGEConv2(embedding, edges)\n",
    "        embedding= torch.nn.functional.relu(embedding)\n",
    "        embedding= torch.nn.functional.dropout(embedding, p=p)\n",
    "        \n",
    "        \n",
    "        embedding= self.SAGEConv3(embedding, edges)\n",
    "        \n",
    "        \n",
    "        return embedding\n",
    "    \n",
    "    \n",
    "    def graph_pair_classification(self, features_graph1, features_original, target):\n",
    "        \n",
    "        score = self.SVM(features_graph1, features_original, target)\n",
    "        score = torch.t(score)\n",
    "\n",
    "        score = torch.nn.functional.relu(self.fully_connected(score))\n",
    "        \n",
    "        score = torch.sigmoid(self.classifier(score))\n",
    "        \n",
    "        \n",
    "        return score\n",
    "        \n",
    "        \n",
    "    \n",
    "    def forward(self, data, p=0.2):\n",
    "        \n",
    "      \n",
    "        \n",
    "        labels_graph1=data[\"labels_graph1\"]\n",
    "        edges_cdg_graph1=data[\"edges_cdg_graph1\"]\n",
    "        edges_ddg_graph1=data[\"edges_ddg_graph1\"]\n",
    "        target=data['target']\n",
    "        \n",
    "        labels_original=data[\"labels_original\"]\n",
    "        edges_cdg_original=data[\"edges_cdg_original\"]\n",
    "        edges_ddg_original=data[\"edges_ddg_original\"]\n",
    "       \n",
    "        \n",
    "        \n",
    "        \n",
    "        embedded_features_cdg_graph1= self.nodes_embedding(labels_graph1, edges_cdg_graph1, p)\n",
    "        if not edges_ddg_graph1.nelement()==0:\n",
    "            embedded_features_ddg_graph1= self.nodes_embedding(labels_graph1, edges_ddg_graph1, p)\n",
    "            embedded_features_cdg_graph1=torch.add(embedded_features_cdg_graph1,embedded_features_ddg_graph1)\n",
    "            \n",
    "        \n",
    "        \n",
    "        embedded_features_cdg_original= self.nodes_embedding(labels_original, edges_cdg_original, p)\n",
    "        if not edges_ddg_original.nelement()==0:\n",
    "            embedded_features_ddg_original= self.nodes_embedding(labels_original, edges_ddg_original, p)\n",
    "            embedded_features_cdg_original= torch.add(embedded_features_cdg_original,embedded_features_ddg_original)\n",
    "        \n",
    "       \n",
    "        \n",
    "        embedded_features_graph1=self.Attention(embedded_features_cdg_graph1)\n",
    "        embedded_features_original=self.Attention(embedded_features_cdg_original)\n",
    "       \n",
    "        \n",
    "        #embedded_features_graph1=\n",
    "        #embedded_features_original=\n",
    "        \n",
    "        \n",
    "       \n",
    "        classification=self.graph_pair_classification(embedded_features_graph1, embedded_features_original, target)\n",
    "        \n",
    "       \n",
    "        return classification\n",
    "           \n",
    "        \n",
    "        \n",
    "        \n",
    "        \n",
    "        \n",
    "        \n",
    "    \n",
    "    \n",
    "    "
   ]
  },
  {
   "cell_type": "code",
   "execution_count": 38,
   "id": "d12c3a7b",
   "metadata": {},
   "outputs": [],
   "source": [
    "class GNN_SVM_trainer:\n",
    "    \n",
    "    def __init__(self, model):\n",
    "        self.model=model\n",
    "   \n",
    "        \n",
    "    def compiler(self, optimizer, loss, metrics=None):\n",
    "        \n",
    "        self.optimizer=optimizer\n",
    "        self.loss= loss\n",
    "        self.metrics=metrics\n",
    "   \n",
    "        \n",
    "    def fit(self, data, batch_size=512 ,epochs=1):\n",
    "        \"\"\"\n",
    "        data: a list of graph pairs \n",
    "        \n",
    "        \"\"\"\n",
    "        \n",
    "        self.model.train()\n",
    "        epoch_counter=0\n",
    "        losses=[]\n",
    "        \n",
    "    \n",
    "        loop= trange(epochs, leave=True)\n",
    "        for epoch in loop:\n",
    "            print()\n",
    "            #print(f'Epoch {epoch + 1}/{epochs}')\n",
    "            batches=self.create_batches(data.X_train, batch_size)\n",
    "            epoch_loss=0.\n",
    "            epoch_loss_len=0.\n",
    "            #loop=tqdm(batches)\n",
    "            for batch in batches:\n",
    "                \n",
    "                epoch_loss=epoch_loss + self.batch_loss(batch)\n",
    "                epoch_loss_len = epoch_loss_len + len(batch)\n",
    "                loss=epoch_loss/epoch_loss_len\n",
    "                #loop.set_description(f'Epoch ')\n",
    "                loop.set_postfix(loss=loss)\n",
    "            \n",
    "            losses.append(loss)\n",
    "          \n",
    "\n",
    "            epoch_counter += 1\n",
    "            #print(\"\\n LOSS: \", loss, \"\\n\")\n",
    "           \n",
    "            \n",
    "        return losses\n",
    "            \n",
    "           \n",
    "   \n",
    "         \n",
    "\n",
    "            \n",
    "            \n",
    "    def batch_loss(self, batch):\n",
    "        \n",
    "        loss=0\n",
    "        index=0\n",
    "        self.optimizer.zero_grad()\n",
    "        for data in batch:\n",
    "            index+=1\n",
    "            #print(f' {index}/{len(batch)}')\n",
    "            \n",
    "            prediction=self.model(data, p=0.2)\n",
    "            #print(prediction)\n",
    "            target=data[\"target\"]\n",
    "            loss+= self.loss(prediction, target)\n",
    "            #loop.set_description(f' {index}/{len(batch)}')\n",
    "            #loop.set_postfix(loss=epoch_loss.item())\n",
    "            \n",
    "        \n",
    "        loss.backward(retain_graph=True)\n",
    "        self.optimizer.step()\n",
    "        running_loss=loss.item()\n",
    "        \n",
    "        \n",
    "        return running_loss\n",
    "    \n",
    "    \n",
    "    \n",
    "    def create_batches(self, data, batch_size):\n",
    "        \n",
    "        batches=[]\n",
    "        random.shuffle(data)\n",
    "        \n",
    "        for batch in range(0, len(data), batch_size):\n",
    "      \n",
    "                batches.append(data[batch:batch+batch_size])\n",
    "        \n",
    "    \n",
    "        return batches\n",
    "    \n",
    "\n",
    "    \n",
    "    def evaluate(self, data, batch_size=512):\n",
    "        \n",
    "        self.model.eval()\n",
    "        loss=0\n",
    "        accuracy=0\n",
    "        \n",
    "        losses=[]\n",
    "        accuracies=[]\n",
    "        predictions=[]\n",
    "        targets=[]\n",
    "        for data in  data.X_test :\n",
    "\n",
    "                    target =data[\"target\"]\n",
    "                    prediction= self.model(data)\n",
    "                    loss=self.loss(prediction, target)\n",
    "\n",
    "                    prediction=(prediction>0.5).float()\n",
    "                    accuracy+= (prediction == target).float()\n",
    "                    #loop.set_postfix(loss=loss.item())\n",
    "               \n",
    "                    losses.append(loss)\n",
    "                    predictions.append(prediction.item())\n",
    "                    targets.append(target.item())\n",
    "                    accuracies.append(accuracy.item())\n",
    "\n",
    "\n",
    "        return [losses, accuracies, predictions, targets]\n",
    "        \n",
    "        \n",
    "         \n",
    "            \n",
    "    def predict(self, data):\n",
    "        \n",
    "        prediction=self.model(data)\n",
    "        \n",
    "        return prediction.float()\n",
    "        \n",
    "        \n",
    "                \n",
    "                \n",
    "                \n",
    "                \n",
    "            \n",
    "            \n",
    "    "
   ]
  },
  {
   "cell_type": "markdown",
   "id": "e470be9e",
   "metadata": {},
   "source": [
    "## NTN"
   ]
  },
  {
   "cell_type": "code",
   "execution_count": 39,
   "id": "236fe520",
   "metadata": {},
   "outputs": [],
   "source": [
    "# GNN + NTN\n",
    "\n",
    "class GNN_NTN(torch.nn.Module):\n",
    "    \n",
    "    def __init__(self, number_labels):\n",
    "        super(GNN_NTN, self).__init__()\n",
    "        self.number_labels=number_labels\n",
    "        self.setup_layers()\n",
    "        \n",
    "    def setup_layers(self):\n",
    "        self.SAGEConv1= SAGEConv( self.number_labels, 256 , normalize=True)\n",
    "        self.SAGEConv2=SAGEConv( 256, 128 , normalize=True)\n",
    "        self.SAGEConv3=SAGEConv( 128, 64 , normalize=True)\n",
    "        self.Attention = Attention()\n",
    "        self.NTN = NTN()\n",
    "        self.fully_connected = torch.nn.Linear(32, 32)\n",
    "        self.classifier = torch.nn.Linear(32, 1)\n",
    "        \n",
    "        \n",
    "        \n",
    "    def nodes_embedding(self, labels, edges, p):\n",
    "        \n",
    "        \n",
    "        \n",
    "        embedding= self.SAGEConv1(labels, edges)\n",
    "        embedding= torch.nn.functional.relu(embedding)\n",
    "        embedding= torch.nn.functional.dropout(embedding, p=p)\n",
    "        \n",
    "        \n",
    "        embedding= self.SAGEConv2(embedding, edges)\n",
    "        embedding= torch.nn.functional.relu(embedding)\n",
    "        embedding= torch.nn.functional.dropout(embedding, p=p)\n",
    "        \n",
    "        \n",
    "        embedding= self.SAGEConv3(embedding, edges)\n",
    "        \n",
    "        \n",
    "        return embedding\n",
    "    \n",
    "    \n",
    "    def graph_pair_classification(self, features_graph1, features_original):\n",
    "        \n",
    "        score = self.NTN(features_graph1, features_original)\n",
    "        score = torch.t(score)\n",
    "\n",
    "        score = torch.nn.functional.relu(self.fully_connected(score))\n",
    "        \n",
    "        score = torch.sigmoid(self.classifier(score))\n",
    "        \n",
    "        \n",
    "        return score\n",
    "        \n",
    "        \n",
    "    \n",
    "    def forward(self, data, p=0.2):\n",
    "        \n",
    "      \n",
    "        \n",
    "        labels_graph1=data[\"labels_graph1\"]\n",
    "        edges_cdg_graph1=data[\"edges_cdg_graph1\"]\n",
    "        edges_ddg_graph1=data[\"edges_ddg_graph1\"]\n",
    "        target=data['target']\n",
    "        \n",
    "        labels_original=data[\"labels_original\"]\n",
    "        edges_cdg_original=data[\"edges_cdg_original\"]\n",
    "        edges_ddg_original=data[\"edges_ddg_original\"]\n",
    "       \n",
    "        \n",
    "        \n",
    "        \n",
    "        embedded_features_cdg_graph1= self.nodes_embedding(labels_graph1, edges_cdg_graph1, p)\n",
    "        if not edges_ddg_graph1.nelement()==0:\n",
    "            embedded_features_ddg_graph1= self.nodes_embedding(labels_graph1, edges_ddg_graph1, p)\n",
    "            embedded_features_cdg_graph1=torch.add(embedded_features_cdg_graph1,embedded_features_ddg_graph1)\n",
    "            \n",
    "        \n",
    "        \n",
    "        embedded_features_cdg_original= self.nodes_embedding(labels_original, edges_cdg_original, p)\n",
    "        if not edges_ddg_original.nelement()==0:\n",
    "            embedded_features_ddg_original= self.nodes_embedding(labels_original, edges_ddg_original, p)\n",
    "            embedded_features_cdg_original= torch.add(embedded_features_cdg_original,embedded_features_ddg_original)\n",
    "        \n",
    "       \n",
    "        \n",
    "        embedded_features_graph1=self.Attention(embedded_features_cdg_graph1)\n",
    "        embedded_features_original=self.Attention(embedded_features_cdg_original)\n",
    "        \n",
    "        \n",
    "        \n",
    "        #embedded_features_graph1=\n",
    "        #embedded_features_original=\n",
    "        \n",
    "        \n",
    "       \n",
    "        classification=self.graph_pair_classification(embedded_features_graph1, embedded_features_original)\n",
    "        \n",
    "       \n",
    "        return classification\n",
    "           \n",
    "        \n",
    "        \n",
    "        \n",
    "        \n",
    "        \n",
    "        \n",
    "    \n",
    "    \n",
    "    "
   ]
  },
  {
   "cell_type": "code",
   "execution_count": 40,
   "id": "b384fbda",
   "metadata": {},
   "outputs": [],
   "source": [
    "class GNN_NTN_trainer:\n",
    "    \n",
    "    def __init__(self, model):\n",
    "        self.model=model\n",
    "   \n",
    "        \n",
    "    def compiler(self, optimizer, loss, metrics=None):\n",
    "        \n",
    "        self.optimizer=optimizer\n",
    "        self.loss= loss\n",
    "        self.metrics=metrics\n",
    "   \n",
    "        \n",
    "    def fit(self, data, batch_size=512 ,epochs=1):\n",
    "        \"\"\"\n",
    "        data: a list of graph pairs \n",
    "        \n",
    "        \"\"\"\n",
    "        \n",
    "        self.model.train()\n",
    "        epoch_counter=0\n",
    "        losses=[]\n",
    "        \n",
    "    \n",
    "        loop= trange(epochs, leave=True)\n",
    "        for epoch in loop:\n",
    "            print()\n",
    "            #print(f'Epoch {epoch + 1}/{epochs}')\n",
    "            batches=self.create_batches(data.X_train, batch_size)\n",
    "            epoch_loss=0.\n",
    "            epoch_loss_len=0.\n",
    "            #loop=tqdm(batches)\n",
    "            for batch in batches:\n",
    "                \n",
    "                epoch_loss=epoch_loss + self.batch_loss(batch)\n",
    "                epoch_loss_len = epoch_loss_len + len(batch)\n",
    "                loss=epoch_loss/epoch_loss_len\n",
    "                #loop.set_description(f'Epoch ')\n",
    "                loop.set_postfix(loss=loss)\n",
    "            \n",
    "            losses.append(loss)\n",
    "          \n",
    "\n",
    "            epoch_counter += 1\n",
    "            #print(\"\\n LOSS: \", loss, \"\\n\")\n",
    "           \n",
    "            \n",
    "        return losses\n",
    "            \n",
    "           \n",
    "   \n",
    "         \n",
    "\n",
    "            \n",
    "            \n",
    "    def batch_loss(self, batch):\n",
    "        \n",
    "        loss=0\n",
    "        index=0\n",
    "        self.optimizer.zero_grad()\n",
    "        for data in batch:\n",
    "            index+=1\n",
    "            #print(f' {index}/{len(batch)}')\n",
    "            \n",
    "            prediction=self.model(data, p=0.2)\n",
    "            #print(prediction)\n",
    "            target=data[\"target\"]\n",
    "            loss+= self.loss(prediction, target)\n",
    "            #loop.set_description(f' {index}/{len(batch)}')\n",
    "            #loop.set_postfix(loss=epoch_loss.item())\n",
    "            \n",
    "        \n",
    "        loss.backward(retain_graph=True)\n",
    "        self.optimizer.step()\n",
    "        running_loss=loss.item()\n",
    "        \n",
    "        \n",
    "        return running_loss\n",
    "    \n",
    "    \n",
    "    \n",
    "    def create_batches(self, data, batch_size):\n",
    "        \n",
    "        batches=[]\n",
    "        random.shuffle(data)\n",
    "        \n",
    "        for batch in range(0, len(data), batch_size):\n",
    "      \n",
    "                batches.append(data[batch:batch+batch_size])\n",
    "        \n",
    "    \n",
    "        return batches\n",
    "    \n",
    "\n",
    "    \n",
    "    def evaluate(self, data, batch_size=512):\n",
    "        \n",
    "        self.model.eval()\n",
    "        loss=0\n",
    "        accuracy=0\n",
    "        \n",
    "        losses=[]\n",
    "        accuracies=[]\n",
    "        predictions=[]\n",
    "        targets=[]\n",
    "        for data in  data.X_test :\n",
    "\n",
    "                    target =data[\"target\"]\n",
    "                    prediction= self.model(data)\n",
    "                    loss=self.loss(prediction, target)\n",
    "\n",
    "                    prediction=(prediction>0.5).float()\n",
    "                    accuracy+= (prediction == target).float()\n",
    "                    #loop.set_postfix(loss=loss.item())\n",
    "               \n",
    "                    losses.append(loss)\n",
    "                    predictions.append(prediction.item())\n",
    "                    targets.append(target.item())\n",
    "                    accuracies.append(accuracy.item())\n",
    "\n",
    "        return [losses, accuracies, predictions, targets]\n",
    "        \n",
    "        \n",
    "         \n",
    "            \n",
    "    def predict(self, data):\n",
    "        \n",
    "        prediction=self.model(data)\n",
    "        \n",
    "        return prediction.float()\n",
    "        \n",
    "        \n",
    "                \n",
    "                \n",
    "                \n",
    "                \n",
    "            \n",
    "            \n",
    "    "
   ]
  },
  {
   "cell_type": "markdown",
   "id": "8677ad3a",
   "metadata": {},
   "source": [
    "## XGBOOST"
   ]
  },
  {
   "cell_type": "code",
   "execution_count": 41,
   "id": "4b1a6997",
   "metadata": {},
   "outputs": [],
   "source": [
    "# GNN = XGBOOST\n",
    "\n",
    "class GNN_XGBOOST(torch.nn.Module):\n",
    "    \n",
    "    def __init__(self, number_labels):\n",
    "        super(GNN_XGBOOST, self).__init__()\n",
    "        self.number_labels=number_labels\n",
    "        self.setup_layers()\n",
    "        \n",
    "    def setup_layers(self):\n",
    "        self.SAGEConv1= SAGEConv( self.number_labels, 256 , normalize=True)\n",
    "        self.SAGEConv2=SAGEConv( 256, 128 , normalize=True)\n",
    "        self.SAGEConv3=SAGEConv( 128, 64 , normalize=True)\n",
    "        self.Attention = Attention()\n",
    "        self.XGBOOST = XGBOOST()\n",
    "        self.fully_connected = torch.nn.Linear(1, 1)\n",
    "        self.classifier = torch.nn.Linear(1, 1)\n",
    "        \n",
    "        \n",
    "        \n",
    "    def nodes_embedding(self, labels, edges, p):\n",
    "        \n",
    "        \n",
    "        \n",
    "        embedding= self.SAGEConv1(labels, edges)\n",
    "        embedding= torch.nn.functional.relu(embedding)\n",
    "        embedding= torch.nn.functional.dropout(embedding, p=p)\n",
    "        \n",
    "        \n",
    "        embedding= self.SAGEConv2(embedding, edges)\n",
    "        embedding= torch.nn.functional.relu(embedding)\n",
    "        embedding= torch.nn.functional.dropout(embedding, p=p)\n",
    "        \n",
    "        \n",
    "        embedding= self.SAGEConv3(embedding, edges)\n",
    "        \n",
    "        \n",
    "        return embedding\n",
    "    \n",
    "    \n",
    "    def graph_pair_classification(self, features_graph1, features_original):\n",
    "        \n",
    "        score = self.XGBOOST(features_graph1, features_original)\n",
    "      \n",
    "        \n",
    "        return score\n",
    "        \n",
    "        \n",
    "    \n",
    "    def forward(self, data, p=0.2):\n",
    "        \n",
    "      \n",
    "        \n",
    "        labels_graph1=data[\"labels_graph1\"]\n",
    "        edges_cdg_graph1=data[\"edges_cdg_graph1\"]\n",
    "        edges_ddg_graph1=data[\"edges_ddg_graph1\"]\n",
    "        \n",
    "        labels_original=data[\"labels_original\"]\n",
    "        edges_cdg_original=data[\"edges_cdg_original\"]\n",
    "        edges_ddg_original=data[\"edges_ddg_original\"]\n",
    "       \n",
    "        \n",
    "        \n",
    "        \n",
    "        embedded_features_cdg_graph1= self.nodes_embedding(labels_graph1, edges_cdg_graph1, p)\n",
    "        if not edges_ddg_graph1.nelement()==0:\n",
    "            embedded_features_ddg_graph1= self.nodes_embedding(labels_graph1, edges_ddg_graph1, p)\n",
    "            embedded_features_cdg_graph1=torch.add(embedded_features_cdg_graph1,embedded_features_ddg_graph1)\n",
    "            \n",
    "        \n",
    "        \n",
    "        embedded_features_cdg_original= self.nodes_embedding(labels_original, edges_cdg_original, p)\n",
    "        if not edges_ddg_original.nelement()==0:\n",
    "            embedded_features_ddg_original= self.nodes_embedding(labels_original, edges_ddg_original, p)\n",
    "            embedded_features_cdg_original= torch.add(embedded_features_cdg_original,embedded_features_ddg_original)\n",
    "        \n",
    "       \n",
    "        \n",
    "        embedded_features_graph1=self.Attention(embedded_features_cdg_graph1)\n",
    "        embedded_features_original=self.Attention(embedded_features_cdg_original)\n",
    "        \n",
    "      \n",
    "        \n",
    "        #embedded_features_graph1=\n",
    "        #embedded_features_original=\n",
    "        \n",
    "        \n",
    "       \n",
    "        classification=self.graph_pair_classification(embedded_features_graph1, embedded_features_original)\n",
    "        \n",
    "        \n",
    "        return classification\n",
    "           \n",
    "        \n",
    "        \n",
    "        \n",
    "        \n",
    "        \n",
    "        \n",
    "    \n",
    "    \n",
    "    "
   ]
  },
  {
   "cell_type": "code",
   "execution_count": 42,
   "id": "06cb03e2",
   "metadata": {},
   "outputs": [],
   "source": [
    "class GNN_XGBOOST_trainer:\n",
    "    \n",
    "    def __init__(self, model):\n",
    "        self.model=model\n",
    "   \n",
    "        \n",
    "    def compiler(self, optimizer, loss, metrics=None):\n",
    "        \n",
    "        self.optimizer=optimizer\n",
    "        self.loss= loss\n",
    "        self.metrics=metrics\n",
    "   \n",
    "        \n",
    "    def fit(self, data, batch_size=512 ,epochs=1):\n",
    "        \"\"\"\n",
    "        data: a list of graph pairs \n",
    "        \n",
    "        \"\"\"\n",
    "        \n",
    "        self.model.train()\n",
    "        epoch_counter=0\n",
    "        losses=[]\n",
    "        \n",
    "    \n",
    "        loop= trange(epochs, leave=True)\n",
    "        for epoch in loop:\n",
    "            print()\n",
    "            #print(f'Epoch {epoch + 1}/{epochs}')\n",
    "            batches=self.create_batches(data.X_train, batch_size)\n",
    "            epoch_loss=0.\n",
    "            epoch_loss_len=0.\n",
    "            #loop=tqdm(batches)\n",
    "            for batch in batches:\n",
    "                \n",
    "                epoch_loss=epoch_loss + self.batch_loss(batch)\n",
    "                epoch_loss_len = epoch_loss_len + len(batch)\n",
    "                loss=epoch_loss/epoch_loss_len\n",
    "                #loop.set_description(f'Epoch ')\n",
    "                loop.set_postfix(loss=loss)\n",
    "            \n",
    "            losses.append(loss)\n",
    "          \n",
    "\n",
    "            epoch_counter += 1\n",
    "            #print(\"\\n LOSS: \", loss, \"\\n\")\n",
    "           \n",
    "            \n",
    "        return losses\n",
    "            \n",
    "           \n",
    "   \n",
    "         \n",
    "\n",
    "            \n",
    "            \n",
    "    def batch_loss(self, batch):\n",
    "        \n",
    "        loss=0\n",
    "        index=0\n",
    "        self.optimizer.zero_grad()\n",
    "        for data in batch:\n",
    "            index+=1\n",
    "            #print(f' {index}/{len(batch)}')\n",
    "            \n",
    "            prediction=self.model(data, p=0.2)\n",
    "            #print(prediction)\n",
    "            target=data[\"target\"]\n",
    "            target=target.item()\n",
    "           \n",
    "            \n",
    "            loss+= self.loss(prediction,torch.tensor(target, requires_grad=True))\n",
    "            #loop.set_description(f' {index}/{len(batch)}')\n",
    "            #loop.set_postfix(loss=epoch_loss.item())\n",
    "            \n",
    "        \n",
    "        loss.backward(retain_graph=True)\n",
    "        self.optimizer.step()\n",
    "        running_loss=loss.item()\n",
    "        \n",
    "        \n",
    "        return running_loss\n",
    "    \n",
    "    \n",
    "    \n",
    "    def create_batches(self, data, batch_size):\n",
    "        \n",
    "        batches=[]\n",
    "        random.shuffle(data)\n",
    "        \n",
    "        for batch in range(0, len(data), batch_size):\n",
    "      \n",
    "                batches.append(data[batch:batch+batch_size])\n",
    "        \n",
    "    \n",
    "        return batches\n",
    "    \n",
    "\n",
    "    \n",
    "    def evaluate(self, data, batch_size=512):\n",
    "        \n",
    "        self.model.eval()\n",
    "        loss=0\n",
    "        accuracy=0\n",
    "        \n",
    "        losses=[]\n",
    "        accuracies=[]\n",
    "        predictions=[]\n",
    "        targets=[]\n",
    "        for data in  data.X_test :\n",
    "\n",
    "                    target =data[\"target\"]\n",
    "                    prediction= self.model(data)\n",
    "                    target=target.item()\n",
    "                    loss=self.loss(prediction, torch.tensor(target, requires_grad=True))\n",
    "\n",
    "                    prediction=(prediction>0.5).float()\n",
    "                    accuracy+= (prediction == target).float()\n",
    "                    #loop.set_postfix(loss=loss.item())\n",
    "               \n",
    "                    losses.append(loss)\n",
    "                    predictions.append(prediction.item())\n",
    "                    targets.append(target)\n",
    "                    accuracies.append(accuracy.item())\n",
    "\n",
    "\n",
    "        return [losses, accuracies, predictions, targets]\n",
    "        \n",
    "        \n",
    "         \n",
    "            \n",
    "    def predict(self, data):\n",
    "        \n",
    "        prediction=self.model(data)\n",
    "        \n",
    "        return prediction.float()\n",
    "        \n",
    "        \n",
    "                \n",
    "                \n",
    "                \n",
    "                \n",
    "            \n",
    "            \n",
    "    "
   ]
  },
  {
   "cell_type": "markdown",
   "id": "43646549",
   "metadata": {},
   "source": [
    "## Naive Bayes\n"
   ]
  },
  {
   "cell_type": "code",
   "execution_count": 43,
   "id": "e44c6294",
   "metadata": {},
   "outputs": [],
   "source": [
    "# GNN + Naive Bayes\n",
    "\n",
    "class GNN_Naive(torch.nn.Module):\n",
    "    \n",
    "    def __init__(self, number_labels):\n",
    "        super(GNN_Naive, self).__init__()\n",
    "        self.number_labels=number_labels\n",
    "        self.setup_layers()\n",
    "        \n",
    "    def setup_layers(self):\n",
    "        self.SAGEConv1= SAGEConv( self.number_labels, 256 , normalize=True)\n",
    "        self.SAGEConv2=SAGEConv( 256, 128 , normalize=True)\n",
    "        self.SAGEConv3=SAGEConv( 128, 64 , normalize=True)\n",
    "        self.Attention = Attention()\n",
    "        self.Naive = Naive()\n",
    "        self.fully_connected = torch.nn.Linear(1, 1)\n",
    "        self.classifier = torch.nn.Linear(1, 1)\n",
    "        \n",
    "        \n",
    "        \n",
    "    def nodes_embedding(self, labels, edges, p):\n",
    "        \n",
    "        \n",
    "        \n",
    "        embedding= self.SAGEConv1(labels, edges)\n",
    "        embedding= torch.nn.functional.relu(embedding)\n",
    "        embedding= torch.nn.functional.dropout(embedding, p=p)\n",
    "        \n",
    "        \n",
    "        embedding= self.SAGEConv2(embedding, edges)\n",
    "        embedding= torch.nn.functional.relu(embedding)\n",
    "        embedding= torch.nn.functional.dropout(embedding, p=p)\n",
    "        \n",
    "        \n",
    "        embedding= self.SAGEConv3(embedding, edges)\n",
    "        \n",
    "        \n",
    "        return embedding\n",
    "    \n",
    "    \n",
    "    def graph_pair_classification(self, features_graph1, features_original):\n",
    "        \n",
    "        score = self.Naive(features_graph1, features_original)\n",
    "      \n",
    "        \n",
    "        return score\n",
    "        \n",
    "        \n",
    "    \n",
    "    def forward(self, data, p=0.2):\n",
    "        \n",
    "      \n",
    "        \n",
    "        labels_graph1=data[\"labels_graph1\"]\n",
    "        edges_cdg_graph1=data[\"edges_cdg_graph1\"]\n",
    "        edges_ddg_graph1=data[\"edges_ddg_graph1\"]\n",
    "        \n",
    "        labels_original=data[\"labels_original\"]\n",
    "        edges_cdg_original=data[\"edges_cdg_original\"]\n",
    "        edges_ddg_original=data[\"edges_ddg_original\"]\n",
    "       \n",
    "        \n",
    "        \n",
    "        \n",
    "        embedded_features_cdg_graph1= self.nodes_embedding(labels_graph1, edges_cdg_graph1, p)\n",
    "        if not edges_ddg_graph1.nelement()==0:\n",
    "            embedded_features_ddg_graph1= self.nodes_embedding(labels_graph1, edges_ddg_graph1, p)\n",
    "            embedded_features_cdg_graph1=torch.add(embedded_features_cdg_graph1,embedded_features_ddg_graph1)\n",
    "            \n",
    "        \n",
    "        \n",
    "        embedded_features_cdg_original= self.nodes_embedding(labels_original, edges_cdg_original, p)\n",
    "        if not edges_ddg_original.nelement()==0:\n",
    "            embedded_features_ddg_original= self.nodes_embedding(labels_original, edges_ddg_original, p)\n",
    "            embedded_features_cdg_original= torch.add(embedded_features_cdg_original,embedded_features_ddg_original)\n",
    "        \n",
    "       \n",
    "        \n",
    "        embedded_features_graph1=self.Attention(embedded_features_cdg_graph1)\n",
    "        embedded_features_original=self.Attention(embedded_features_cdg_original)\n",
    "        \n",
    "      \n",
    "        \n",
    "        #embedded_features_graph1=\n",
    "        #embedded_features_original=\n",
    "        \n",
    "        \n",
    "       \n",
    "        classification=self.graph_pair_classification(embedded_features_graph1, embedded_features_original)\n",
    "        \n",
    "        \n",
    "        return classification\n",
    "           \n",
    "        \n",
    "        \n",
    "        \n",
    "        \n",
    "        \n",
    "        \n",
    "    \n",
    "    \n",
    "    "
   ]
  },
  {
   "cell_type": "code",
   "execution_count": 44,
   "id": "daadaf5c",
   "metadata": {},
   "outputs": [],
   "source": [
    "class GNN_Naive_trainer:\n",
    "    \n",
    "    def __init__(self, model):\n",
    "        self.model=model\n",
    "   \n",
    "        \n",
    "    def compiler(self, optimizer, loss, metrics=None):\n",
    "        \n",
    "        self.optimizer=optimizer\n",
    "        self.loss= loss\n",
    "        self.metrics=metrics\n",
    "   \n",
    "        \n",
    "    def fit(self, data, batch_size=512 ,epochs=1):\n",
    "        \"\"\"\n",
    "        data: a list of graph pairs \n",
    "        \n",
    "        \"\"\"\n",
    "        \n",
    "        self.model.train()\n",
    "        epoch_counter=0\n",
    "        losses=[]\n",
    "        \n",
    "    \n",
    "        loop= trange(epochs, leave=True)\n",
    "        for epoch in loop:\n",
    "            print()\n",
    "            #print(f'Epoch {epoch + 1}/{epochs}')\n",
    "            batches=self.create_batches(data.X_train, batch_size)\n",
    "            epoch_loss=0.\n",
    "            epoch_loss_len=0.\n",
    "            #loop=tqdm(batches)\n",
    "            for batch in batches:\n",
    "                \n",
    "                epoch_loss=epoch_loss + self.batch_loss(batch)\n",
    "                epoch_loss_len = epoch_loss_len + len(batch)\n",
    "                loss=epoch_loss/epoch_loss_len\n",
    "                #loop.set_description(f'Epoch ')\n",
    "                loop.set_postfix(loss=loss)\n",
    "            \n",
    "            losses.append(loss)\n",
    "          \n",
    "\n",
    "            epoch_counter += 1\n",
    "            #print(\"\\n LOSS: \", loss, \"\\n\")\n",
    "           \n",
    "            \n",
    "        return losses\n",
    "            \n",
    "           \n",
    "   \n",
    "         \n",
    "\n",
    "            \n",
    "            \n",
    "    def batch_loss(self, batch):\n",
    "        \n",
    "        loss=0\n",
    "        index=0\n",
    "        self.optimizer.zero_grad()\n",
    "        for data in batch:\n",
    "            index+=1\n",
    "            #print(f' {index}/{len(batch)}')\n",
    "            \n",
    "            prediction=self.model(data, p=0.2)\n",
    "            #print(prediction)\n",
    "            target=data[\"target\"]\n",
    "            target=target.item()\n",
    "           \n",
    "            \n",
    "            loss+= self.loss(prediction,torch.tensor(target, requires_grad=True))\n",
    "            #loop.set_description(f' {index}/{len(batch)}')\n",
    "            #loop.set_postfix(loss=epoch_loss.item())\n",
    "            \n",
    "        \n",
    "        loss.backward(retain_graph=True)\n",
    "        self.optimizer.step()\n",
    "        running_loss=loss.item()\n",
    "        \n",
    "        \n",
    "        return running_loss\n",
    "    \n",
    "    \n",
    "    \n",
    "    def create_batches(self, data, batch_size):\n",
    "        \n",
    "        batches=[]\n",
    "        random.shuffle(data)\n",
    "        \n",
    "        for batch in range(0, len(data), batch_size):\n",
    "      \n",
    "                batches.append(data[batch:batch+batch_size])\n",
    "        \n",
    "    \n",
    "        return batches\n",
    "    \n",
    "\n",
    "    \n",
    "    def evaluate(self, data, batch_size=512):\n",
    "        \n",
    "        self.model.eval()\n",
    "        loss=0\n",
    "        accuracy=0\n",
    "        \n",
    "        losses=[]\n",
    "        accuracies=[]\n",
    "        predictions=[]\n",
    "        targets=[]\n",
    "        for data in  data.X_test :\n",
    "\n",
    "                    target =data[\"target\"]\n",
    "                    prediction= self.model(data)\n",
    "                    target=target.item()\n",
    "                    loss=self.loss(prediction, torch.tensor(target, requires_grad=True))\n",
    "\n",
    "                    prediction=(prediction>0.5).float()\n",
    "                    accuracy+= (prediction == target).float()\n",
    "                    #loop.set_postfix(loss=loss.item())\n",
    "               \n",
    "                    losses.append(loss)\n",
    "                    predictions.append(prediction.item())\n",
    "                    targets.append(target)\n",
    "                    accuracies.append(accuracy.item())\n",
    "\n",
    "\n",
    "        return [losses, accuracies, predictions, targets]\n",
    "        \n",
    "        \n",
    "        \n",
    "         \n",
    "            \n",
    "    def predict(self, data):\n",
    "        \n",
    "        prediction=self.model(data)\n",
    "        \n",
    "        return prediction.float()\n",
    "        \n",
    "        \n",
    "                \n",
    "                \n",
    "                \n",
    "                \n",
    "            \n",
    "            \n",
    "    "
   ]
  },
  {
   "cell_type": "markdown",
   "id": "38d8d4ad",
   "metadata": {},
   "source": [
    "## Attention mechanism"
   ]
  },
  {
   "cell_type": "code",
   "execution_count": 45,
   "id": "b62826a6",
   "metadata": {},
   "outputs": [],
   "source": [
    "class Attention(torch.nn.Module):\n",
    "    \n",
    "    def __init__(self):\n",
    "        super(Attention, self).__init__()\n",
    "        \n",
    "        self.weights= torch.nn.Parameter(torch.Tensor(64,64))\n",
    "        self.weights= torch.nn.init.xavier_uniform_(self.weights)\n",
    "        \n",
    "        \n",
    "        \n",
    "    def forward(self, embedding):\n",
    "        \n",
    "        graph_embedding = torch.mean(torch.matmul(embedding, self.weights), dim=0)\n",
    "       \n",
    "        \n",
    "        graph_embedding = torch.tanh(graph_embedding)\n",
    "        graph_embedding = torch.sigmoid(torch.mm(embedding, graph_embedding.view(-1, 1)))\n",
    "        graph_embedding = torch.mm(torch.t(embedding), graph_embedding)\n",
    "        \n",
    "        \n",
    "        \n",
    "        return graph_embedding\n",
    "\n",
    "\n",
    "\n",
    "        \n",
    "        "
   ]
  },
  {
   "cell_type": "markdown",
   "id": "a0d0595b",
   "metadata": {},
   "source": [
    "## Classifiers"
   ]
  },
  {
   "cell_type": "markdown",
   "id": "e6442bec",
   "metadata": {},
   "source": [
    "### SVM"
   ]
  },
  {
   "cell_type": "code",
   "execution_count": 14,
   "id": "179cc75d",
   "metadata": {},
   "outputs": [],
   "source": [
    "xg=[] \n",
    "y=[]\n",
    "class SVM(torch.nn.Module):\n",
    "    \n",
    "    def __init__(self):\n",
    "        \n",
    "        super(SVM, self).__init__()\n",
    "        self.weights= torch.nn.Parameter(torch.Tensor(64,64, 32))\n",
    "        self.weights= torch.nn.init.xavier_uniform_(self.weights)\n",
    "                                                              \n",
    "        self.weights_block = torch.nn.Parameter(torch.Tensor(32,128))\n",
    "        torch.nn.init.xavier_uniform_(self.weights_block)\n",
    "        \n",
    "        self.bias = torch.nn.Parameter(torch.Tensor(32, 1))\n",
    "        torch.nn.init.xavier_uniform_(self.bias)\n",
    "        \n",
    "    def forward(self,  embedding1, embedding2, target):\n",
    "        \n",
    "        combined = torch.cat((embedding1, embedding2))\n",
    "        xg.append(combined)\n",
    "        y.append(target.item())\n",
    "       \n",
    "        block_scoring = torch.mm(self.weights_block, combined)\n",
    "      \n",
    "       \n",
    "        scores = torch.nn.functional.relu( block_scoring + self.bias)\n",
    "        return scores\n",
    "\n",
    "        "
   ]
  },
  {
   "cell_type": "markdown",
   "id": "16d2d175",
   "metadata": {},
   "source": [
    "### NTN"
   ]
  },
  {
   "cell_type": "code",
   "execution_count": 15,
   "id": "fb20427a",
   "metadata": {},
   "outputs": [],
   "source": [
    "   \n",
    "class NTN(torch.nn.Module):\n",
    "    \n",
    "    def __init__(self):\n",
    "        \n",
    "        super(NTN, self).__init__()\n",
    "        self.weights= torch.nn.Parameter(torch.Tensor(64,64, 32))\n",
    "        self.weights= torch.nn.init.xavier_uniform_(self.weights)\n",
    "                                                              \n",
    "        self.weights_block = torch.nn.Parameter(torch.Tensor(32,128))\n",
    "        torch.nn.init.xavier_uniform_(self.weights_block)\n",
    "        \n",
    "        self.bias = torch.nn.Parameter(torch.Tensor(32, 1))\n",
    "        torch.nn.init.xavier_uniform_(self.bias)\n",
    "        \n",
    "    def forward(self,  embedding1, embedding2):\n",
    "        \n",
    "        scoring = torch.mm(torch.t(embedding1), self.weights.view(64, -1))\n",
    "        scoring = scoring.view(64, 32)\n",
    "        scoring = torch.mm(torch.t(scoring), embedding2)\n",
    "        combined = torch.cat((embedding1, embedding2))\n",
    "        block_scoring = torch.mm(self.weights_block, combined)\n",
    "        scores = torch.nn.functional.relu(scoring + block_scoring + self.bias)\n",
    "        \n",
    "        return scores"
   ]
  },
  {
   "cell_type": "markdown",
   "id": "2fb8f26d",
   "metadata": {},
   "source": [
    "### XGBOOST"
   ]
  },
  {
   "cell_type": "code",
   "execution_count": 16,
   "id": "16b38e72",
   "metadata": {},
   "outputs": [],
   "source": [
    " \n",
    "class XGBOOST(torch.nn.Module):\n",
    "    \n",
    "   \n",
    "        \n",
    "    def forward(self,  embedding1, embedding2):\n",
    "        \n",
    "        combined = torch.cat((embedding1, embedding2))\n",
    "        x2=combined.detach().numpy()\n",
    "      \n",
    "        \n",
    "        x2.resize((1,128))\n",
    "        \n",
    "        df=pd.DataFrame(x2)\n",
    "       \n",
    "        score=XGBOOST_CLASSIFIER.predict(df)\n",
    "         \n",
    "      \n",
    "        \n",
    "        \n",
    "        return torch.tensor(float(score), requires_grad=True)\n",
    "\n",
    "        \n"
   ]
  },
  {
   "cell_type": "markdown",
   "id": "8401d90a",
   "metadata": {},
   "source": [
    "### Naive Bayes"
   ]
  },
  {
   "cell_type": "code",
   "execution_count": 17,
   "id": "cb09e470",
   "metadata": {},
   "outputs": [],
   "source": [
    "\n",
    "class Naive(torch.nn.Module):\n",
    "    \n",
    "   \n",
    "        \n",
    "    def forward(self,  embedding1, embedding2):\n",
    "        \n",
    "        combined = torch.cat((embedding1, embedding2))\n",
    "        x2=combined.detach().numpy()\n",
    "      \n",
    "        \n",
    "        x2.resize((1,128))\n",
    "        \n",
    "        df=pd.DataFrame(x2)\n",
    "        \n",
    "        \n",
    "       \n",
    "        score=gnb.predict(df)\n",
    "      \n",
    "       \n",
    "        \n",
    "        \n",
    "        return torch.tensor(float(score), requires_grad=True)\n",
    "\n",
    "        "
   ]
  },
  {
   "cell_type": "markdown",
   "id": "034e6883",
   "metadata": {},
   "source": [
    "## Entrainement des classifieurs"
   ]
  },
  {
   "cell_type": "code",
   "execution_count": 46,
   "id": "820a82f7",
   "metadata": {},
   "outputs": [],
   "source": [
    "targets=[]\n",
    "for i in range(len(data.X_train))  :  \n",
    "    targets.append(data.X_train[i]['target'].item())"
   ]
  },
  {
   "cell_type": "code",
   "execution_count": 47,
   "id": "53ea8c61",
   "metadata": {},
   "outputs": [],
   "source": [
    "x=[]\n",
    "for i in xg:\n",
    "    x.append(i.detach().numpy())"
   ]
  },
  {
   "cell_type": "code",
   "execution_count": 48,
   "id": "a62a9e4c",
   "metadata": {},
   "outputs": [],
   "source": [
    "d=[]\n",
    "for j in x:\n",
    "    \n",
    "    j.resize((128))\n",
    "    d.append(j)"
   ]
  },
  {
   "cell_type": "code",
   "execution_count": 49,
   "id": "64c05f9f",
   "metadata": {},
   "outputs": [],
   "source": [
    "import pandas as pd\n",
    "df=pd.DataFrame(d)"
   ]
  },
  {
   "cell_type": "code",
   "execution_count": 50,
   "id": "99bcb70b",
   "metadata": {},
   "outputs": [
    {
     "data": {
      "text/html": [
       "<div>\n",
       "<style scoped>\n",
       "    .dataframe tbody tr th:only-of-type {\n",
       "        vertical-align: middle;\n",
       "    }\n",
       "\n",
       "    .dataframe tbody tr th {\n",
       "        vertical-align: top;\n",
       "    }\n",
       "\n",
       "    .dataframe thead th {\n",
       "        text-align: right;\n",
       "    }\n",
       "</style>\n",
       "<table border=\"1\" class=\"dataframe\">\n",
       "  <thead>\n",
       "    <tr style=\"text-align: right;\">\n",
       "      <th></th>\n",
       "      <th>0</th>\n",
       "      <th>1</th>\n",
       "      <th>2</th>\n",
       "      <th>3</th>\n",
       "      <th>4</th>\n",
       "      <th>5</th>\n",
       "      <th>6</th>\n",
       "      <th>7</th>\n",
       "      <th>8</th>\n",
       "      <th>9</th>\n",
       "      <th>...</th>\n",
       "      <th>118</th>\n",
       "      <th>119</th>\n",
       "      <th>120</th>\n",
       "      <th>121</th>\n",
       "      <th>122</th>\n",
       "      <th>123</th>\n",
       "      <th>124</th>\n",
       "      <th>125</th>\n",
       "      <th>126</th>\n",
       "      <th>127</th>\n",
       "    </tr>\n",
       "  </thead>\n",
       "  <tbody>\n",
       "    <tr>\n",
       "      <th>0</th>\n",
       "      <td>0.502407</td>\n",
       "      <td>-0.514042</td>\n",
       "      <td>-0.400558</td>\n",
       "      <td>-0.578789</td>\n",
       "      <td>1.939898</td>\n",
       "      <td>1.347725</td>\n",
       "      <td>0.090267</td>\n",
       "      <td>1.375031</td>\n",
       "      <td>0.651123</td>\n",
       "      <td>1.073477</td>\n",
       "      <td>...</td>\n",
       "      <td>0.313506</td>\n",
       "      <td>0.364521</td>\n",
       "      <td>0.497497</td>\n",
       "      <td>0.485070</td>\n",
       "      <td>-0.523720</td>\n",
       "      <td>0.144646</td>\n",
       "      <td>0.057127</td>\n",
       "      <td>-0.144507</td>\n",
       "      <td>-0.568038</td>\n",
       "      <td>0.007848</td>\n",
       "    </tr>\n",
       "    <tr>\n",
       "      <th>1</th>\n",
       "      <td>0.424346</td>\n",
       "      <td>-0.023726</td>\n",
       "      <td>-0.355633</td>\n",
       "      <td>-0.184089</td>\n",
       "      <td>1.661560</td>\n",
       "      <td>1.297788</td>\n",
       "      <td>-0.011714</td>\n",
       "      <td>1.182644</td>\n",
       "      <td>0.722731</td>\n",
       "      <td>1.072919</td>\n",
       "      <td>...</td>\n",
       "      <td>0.286889</td>\n",
       "      <td>0.178169</td>\n",
       "      <td>0.806893</td>\n",
       "      <td>0.775235</td>\n",
       "      <td>-0.798674</td>\n",
       "      <td>0.097428</td>\n",
       "      <td>0.191891</td>\n",
       "      <td>-0.429135</td>\n",
       "      <td>-0.761513</td>\n",
       "      <td>0.181594</td>\n",
       "    </tr>\n",
       "    <tr>\n",
       "      <th>2</th>\n",
       "      <td>0.609592</td>\n",
       "      <td>-0.235853</td>\n",
       "      <td>-0.522275</td>\n",
       "      <td>-0.295319</td>\n",
       "      <td>2.457126</td>\n",
       "      <td>2.092590</td>\n",
       "      <td>0.266561</td>\n",
       "      <td>1.813104</td>\n",
       "      <td>0.964455</td>\n",
       "      <td>1.349727</td>\n",
       "      <td>...</td>\n",
       "      <td>0.658269</td>\n",
       "      <td>0.334140</td>\n",
       "      <td>0.994996</td>\n",
       "      <td>1.161217</td>\n",
       "      <td>-1.039936</td>\n",
       "      <td>0.019938</td>\n",
       "      <td>0.096710</td>\n",
       "      <td>-0.567856</td>\n",
       "      <td>-1.249989</td>\n",
       "      <td>0.159597</td>\n",
       "    </tr>\n",
       "    <tr>\n",
       "      <th>3</th>\n",
       "      <td>0.326473</td>\n",
       "      <td>-0.203557</td>\n",
       "      <td>-0.577618</td>\n",
       "      <td>-0.503208</td>\n",
       "      <td>1.562755</td>\n",
       "      <td>1.478322</td>\n",
       "      <td>0.060976</td>\n",
       "      <td>1.393705</td>\n",
       "      <td>0.763136</td>\n",
       "      <td>0.840653</td>\n",
       "      <td>...</td>\n",
       "      <td>0.680948</td>\n",
       "      <td>0.619782</td>\n",
       "      <td>1.081649</td>\n",
       "      <td>1.235990</td>\n",
       "      <td>-0.969304</td>\n",
       "      <td>0.275234</td>\n",
       "      <td>0.072932</td>\n",
       "      <td>-0.648814</td>\n",
       "      <td>-1.270654</td>\n",
       "      <td>0.017137</td>\n",
       "    </tr>\n",
       "    <tr>\n",
       "      <th>4</th>\n",
       "      <td>0.446319</td>\n",
       "      <td>-0.455311</td>\n",
       "      <td>-0.525690</td>\n",
       "      <td>-0.567564</td>\n",
       "      <td>2.365457</td>\n",
       "      <td>1.572665</td>\n",
       "      <td>0.314677</td>\n",
       "      <td>1.423668</td>\n",
       "      <td>1.137430</td>\n",
       "      <td>1.220022</td>\n",
       "      <td>...</td>\n",
       "      <td>1.243229</td>\n",
       "      <td>1.356357</td>\n",
       "      <td>2.722965</td>\n",
       "      <td>3.091430</td>\n",
       "      <td>-2.744515</td>\n",
       "      <td>0.641515</td>\n",
       "      <td>0.105924</td>\n",
       "      <td>-1.420303</td>\n",
       "      <td>-3.150878</td>\n",
       "      <td>0.399422</td>\n",
       "    </tr>\n",
       "    <tr>\n",
       "      <th>...</th>\n",
       "      <td>...</td>\n",
       "      <td>...</td>\n",
       "      <td>...</td>\n",
       "      <td>...</td>\n",
       "      <td>...</td>\n",
       "      <td>...</td>\n",
       "      <td>...</td>\n",
       "      <td>...</td>\n",
       "      <td>...</td>\n",
       "      <td>...</td>\n",
       "      <td>...</td>\n",
       "      <td>...</td>\n",
       "      <td>...</td>\n",
       "      <td>...</td>\n",
       "      <td>...</td>\n",
       "      <td>...</td>\n",
       "      <td>...</td>\n",
       "      <td>...</td>\n",
       "      <td>...</td>\n",
       "      <td>...</td>\n",
       "      <td>...</td>\n",
       "    </tr>\n",
       "    <tr>\n",
       "      <th>3326</th>\n",
       "      <td>-20.468248</td>\n",
       "      <td>-14.249830</td>\n",
       "      <td>-1.349945</td>\n",
       "      <td>13.983484</td>\n",
       "      <td>14.222268</td>\n",
       "      <td>17.254126</td>\n",
       "      <td>2.180118</td>\n",
       "      <td>-4.662481</td>\n",
       "      <td>12.166183</td>\n",
       "      <td>47.100502</td>\n",
       "      <td>...</td>\n",
       "      <td>-27.854870</td>\n",
       "      <td>-1.405122</td>\n",
       "      <td>28.434399</td>\n",
       "      <td>3.504247</td>\n",
       "      <td>-11.813209</td>\n",
       "      <td>36.332848</td>\n",
       "      <td>-22.566725</td>\n",
       "      <td>37.409569</td>\n",
       "      <td>-22.690989</td>\n",
       "      <td>15.871495</td>\n",
       "    </tr>\n",
       "    <tr>\n",
       "      <th>3327</th>\n",
       "      <td>-1.183900</td>\n",
       "      <td>-0.542164</td>\n",
       "      <td>-0.094140</td>\n",
       "      <td>0.442098</td>\n",
       "      <td>0.673295</td>\n",
       "      <td>0.684672</td>\n",
       "      <td>0.059041</td>\n",
       "      <td>-0.329789</td>\n",
       "      <td>0.043745</td>\n",
       "      <td>2.475017</td>\n",
       "      <td>...</td>\n",
       "      <td>-27.704552</td>\n",
       "      <td>-4.133180</td>\n",
       "      <td>28.742193</td>\n",
       "      <td>0.496547</td>\n",
       "      <td>-11.555194</td>\n",
       "      <td>31.864864</td>\n",
       "      <td>-21.047174</td>\n",
       "      <td>36.633331</td>\n",
       "      <td>-25.431273</td>\n",
       "      <td>14.820856</td>\n",
       "    </tr>\n",
       "    <tr>\n",
       "      <th>3328</th>\n",
       "      <td>-17.427258</td>\n",
       "      <td>-11.945103</td>\n",
       "      <td>0.266547</td>\n",
       "      <td>13.431833</td>\n",
       "      <td>12.538343</td>\n",
       "      <td>15.644884</td>\n",
       "      <td>0.802854</td>\n",
       "      <td>-3.997091</td>\n",
       "      <td>13.046039</td>\n",
       "      <td>44.240398</td>\n",
       "      <td>...</td>\n",
       "      <td>-28.209194</td>\n",
       "      <td>-3.701659</td>\n",
       "      <td>29.953699</td>\n",
       "      <td>1.182357</td>\n",
       "      <td>-11.497396</td>\n",
       "      <td>32.663876</td>\n",
       "      <td>-20.757334</td>\n",
       "      <td>37.088921</td>\n",
       "      <td>-25.469315</td>\n",
       "      <td>15.567728</td>\n",
       "    </tr>\n",
       "    <tr>\n",
       "      <th>3329</th>\n",
       "      <td>-20.383568</td>\n",
       "      <td>-13.257268</td>\n",
       "      <td>-3.339514</td>\n",
       "      <td>10.230844</td>\n",
       "      <td>13.052532</td>\n",
       "      <td>15.257707</td>\n",
       "      <td>4.030220</td>\n",
       "      <td>-4.520158</td>\n",
       "      <td>9.910577</td>\n",
       "      <td>44.200638</td>\n",
       "      <td>...</td>\n",
       "      <td>-28.692196</td>\n",
       "      <td>-3.036274</td>\n",
       "      <td>30.166351</td>\n",
       "      <td>1.271284</td>\n",
       "      <td>-11.885700</td>\n",
       "      <td>32.279797</td>\n",
       "      <td>-22.414284</td>\n",
       "      <td>35.427814</td>\n",
       "      <td>-23.631744</td>\n",
       "      <td>15.043068</td>\n",
       "    </tr>\n",
       "    <tr>\n",
       "      <th>3330</th>\n",
       "      <td>-17.989193</td>\n",
       "      <td>-15.171605</td>\n",
       "      <td>-1.401708</td>\n",
       "      <td>11.239560</td>\n",
       "      <td>10.941566</td>\n",
       "      <td>16.085270</td>\n",
       "      <td>1.180454</td>\n",
       "      <td>-4.495275</td>\n",
       "      <td>11.772381</td>\n",
       "      <td>44.187805</td>\n",
       "      <td>...</td>\n",
       "      <td>-27.616383</td>\n",
       "      <td>-4.202582</td>\n",
       "      <td>29.587696</td>\n",
       "      <td>1.232065</td>\n",
       "      <td>-11.573977</td>\n",
       "      <td>33.777706</td>\n",
       "      <td>-19.902042</td>\n",
       "      <td>36.884792</td>\n",
       "      <td>-24.961746</td>\n",
       "      <td>15.427304</td>\n",
       "    </tr>\n",
       "  </tbody>\n",
       "</table>\n",
       "<p>3331 rows × 128 columns</p>\n",
       "</div>"
      ],
      "text/plain": [
       "            0          1         2          3          4          5    \\\n",
       "0      0.502407  -0.514042 -0.400558  -0.578789   1.939898   1.347725   \n",
       "1      0.424346  -0.023726 -0.355633  -0.184089   1.661560   1.297788   \n",
       "2      0.609592  -0.235853 -0.522275  -0.295319   2.457126   2.092590   \n",
       "3      0.326473  -0.203557 -0.577618  -0.503208   1.562755   1.478322   \n",
       "4      0.446319  -0.455311 -0.525690  -0.567564   2.365457   1.572665   \n",
       "...         ...        ...       ...        ...        ...        ...   \n",
       "3326 -20.468248 -14.249830 -1.349945  13.983484  14.222268  17.254126   \n",
       "3327  -1.183900  -0.542164 -0.094140   0.442098   0.673295   0.684672   \n",
       "3328 -17.427258 -11.945103  0.266547  13.431833  12.538343  15.644884   \n",
       "3329 -20.383568 -13.257268 -3.339514  10.230844  13.052532  15.257707   \n",
       "3330 -17.989193 -15.171605 -1.401708  11.239560  10.941566  16.085270   \n",
       "\n",
       "           6         7          8          9    ...        118       119  \\\n",
       "0     0.090267  1.375031   0.651123   1.073477  ...   0.313506  0.364521   \n",
       "1    -0.011714  1.182644   0.722731   1.072919  ...   0.286889  0.178169   \n",
       "2     0.266561  1.813104   0.964455   1.349727  ...   0.658269  0.334140   \n",
       "3     0.060976  1.393705   0.763136   0.840653  ...   0.680948  0.619782   \n",
       "4     0.314677  1.423668   1.137430   1.220022  ...   1.243229  1.356357   \n",
       "...        ...       ...        ...        ...  ...        ...       ...   \n",
       "3326  2.180118 -4.662481  12.166183  47.100502  ... -27.854870 -1.405122   \n",
       "3327  0.059041 -0.329789   0.043745   2.475017  ... -27.704552 -4.133180   \n",
       "3328  0.802854 -3.997091  13.046039  44.240398  ... -28.209194 -3.701659   \n",
       "3329  4.030220 -4.520158   9.910577  44.200638  ... -28.692196 -3.036274   \n",
       "3330  1.180454 -4.495275  11.772381  44.187805  ... -27.616383 -4.202582   \n",
       "\n",
       "            120       121        122        123        124        125  \\\n",
       "0      0.497497  0.485070  -0.523720   0.144646   0.057127  -0.144507   \n",
       "1      0.806893  0.775235  -0.798674   0.097428   0.191891  -0.429135   \n",
       "2      0.994996  1.161217  -1.039936   0.019938   0.096710  -0.567856   \n",
       "3      1.081649  1.235990  -0.969304   0.275234   0.072932  -0.648814   \n",
       "4      2.722965  3.091430  -2.744515   0.641515   0.105924  -1.420303   \n",
       "...         ...       ...        ...        ...        ...        ...   \n",
       "3326  28.434399  3.504247 -11.813209  36.332848 -22.566725  37.409569   \n",
       "3327  28.742193  0.496547 -11.555194  31.864864 -21.047174  36.633331   \n",
       "3328  29.953699  1.182357 -11.497396  32.663876 -20.757334  37.088921   \n",
       "3329  30.166351  1.271284 -11.885700  32.279797 -22.414284  35.427814   \n",
       "3330  29.587696  1.232065 -11.573977  33.777706 -19.902042  36.884792   \n",
       "\n",
       "            126        127  \n",
       "0     -0.568038   0.007848  \n",
       "1     -0.761513   0.181594  \n",
       "2     -1.249989   0.159597  \n",
       "3     -1.270654   0.017137  \n",
       "4     -3.150878   0.399422  \n",
       "...         ...        ...  \n",
       "3326 -22.690989  15.871495  \n",
       "3327 -25.431273  14.820856  \n",
       "3328 -25.469315  15.567728  \n",
       "3329 -23.631744  15.043068  \n",
       "3330 -24.961746  15.427304  \n",
       "\n",
       "[3331 rows x 128 columns]"
      ]
     },
     "execution_count": 50,
     "metadata": {},
     "output_type": "execute_result"
    }
   ],
   "source": [
    "df"
   ]
  },
  {
   "cell_type": "code",
   "execution_count": 51,
   "id": "745caea8",
   "metadata": {},
   "outputs": [
    {
     "data": {
      "text/html": [
       "<style>#sk-container-id-1 {color: black;background-color: white;}#sk-container-id-1 pre{padding: 0;}#sk-container-id-1 div.sk-toggleable {background-color: white;}#sk-container-id-1 label.sk-toggleable__label {cursor: pointer;display: block;width: 100%;margin-bottom: 0;padding: 0.3em;box-sizing: border-box;text-align: center;}#sk-container-id-1 label.sk-toggleable__label-arrow:before {content: \"▸\";float: left;margin-right: 0.25em;color: #696969;}#sk-container-id-1 label.sk-toggleable__label-arrow:hover:before {color: black;}#sk-container-id-1 div.sk-estimator:hover label.sk-toggleable__label-arrow:before {color: black;}#sk-container-id-1 div.sk-toggleable__content {max-height: 0;max-width: 0;overflow: hidden;text-align: left;background-color: #f0f8ff;}#sk-container-id-1 div.sk-toggleable__content pre {margin: 0.2em;color: black;border-radius: 0.25em;background-color: #f0f8ff;}#sk-container-id-1 input.sk-toggleable__control:checked~div.sk-toggleable__content {max-height: 200px;max-width: 100%;overflow: auto;}#sk-container-id-1 input.sk-toggleable__control:checked~label.sk-toggleable__label-arrow:before {content: \"▾\";}#sk-container-id-1 div.sk-estimator input.sk-toggleable__control:checked~label.sk-toggleable__label {background-color: #d4ebff;}#sk-container-id-1 div.sk-label input.sk-toggleable__control:checked~label.sk-toggleable__label {background-color: #d4ebff;}#sk-container-id-1 input.sk-hidden--visually {border: 0;clip: rect(1px 1px 1px 1px);clip: rect(1px, 1px, 1px, 1px);height: 1px;margin: -1px;overflow: hidden;padding: 0;position: absolute;width: 1px;}#sk-container-id-1 div.sk-estimator {font-family: monospace;background-color: #f0f8ff;border: 1px dotted black;border-radius: 0.25em;box-sizing: border-box;margin-bottom: 0.5em;}#sk-container-id-1 div.sk-estimator:hover {background-color: #d4ebff;}#sk-container-id-1 div.sk-parallel-item::after {content: \"\";width: 100%;border-bottom: 1px solid gray;flex-grow: 1;}#sk-container-id-1 div.sk-label:hover label.sk-toggleable__label {background-color: #d4ebff;}#sk-container-id-1 div.sk-serial::before {content: \"\";position: absolute;border-left: 1px solid gray;box-sizing: border-box;top: 0;bottom: 0;left: 50%;z-index: 0;}#sk-container-id-1 div.sk-serial {display: flex;flex-direction: column;align-items: center;background-color: white;padding-right: 0.2em;padding-left: 0.2em;position: relative;}#sk-container-id-1 div.sk-item {position: relative;z-index: 1;}#sk-container-id-1 div.sk-parallel {display: flex;align-items: stretch;justify-content: center;background-color: white;position: relative;}#sk-container-id-1 div.sk-item::before, #sk-container-id-1 div.sk-parallel-item::before {content: \"\";position: absolute;border-left: 1px solid gray;box-sizing: border-box;top: 0;bottom: 0;left: 50%;z-index: -1;}#sk-container-id-1 div.sk-parallel-item {display: flex;flex-direction: column;z-index: 1;position: relative;background-color: white;}#sk-container-id-1 div.sk-parallel-item:first-child::after {align-self: flex-end;width: 50%;}#sk-container-id-1 div.sk-parallel-item:last-child::after {align-self: flex-start;width: 50%;}#sk-container-id-1 div.sk-parallel-item:only-child::after {width: 0;}#sk-container-id-1 div.sk-dashed-wrapped {border: 1px dashed gray;margin: 0 0.4em 0.5em 0.4em;box-sizing: border-box;padding-bottom: 0.4em;background-color: white;}#sk-container-id-1 div.sk-label label {font-family: monospace;font-weight: bold;display: inline-block;line-height: 1.2em;}#sk-container-id-1 div.sk-label-container {text-align: center;}#sk-container-id-1 div.sk-container {/* jupyter's `normalize.less` sets `[hidden] { display: none; }` but bootstrap.min.css set `[hidden] { display: none !important; }` so we also need the `!important` here to be able to override the default hidden behavior on the sphinx rendered scikit-learn.org. See: https://github.com/scikit-learn/scikit-learn/issues/21755 */display: inline-block !important;position: relative;}#sk-container-id-1 div.sk-text-repr-fallback {display: none;}</style><div id=\"sk-container-id-1\" class=\"sk-top-container\"><div class=\"sk-text-repr-fallback\"><pre>XGBClassifier(base_score=0.5, booster=&#x27;gbtree&#x27;, callbacks=None,\n",
       "              colsample_bylevel=None, colsample_bynode=None,\n",
       "              colsample_bytree=None, early_stopping_rounds=None,\n",
       "              enable_categorical=False, eval_metric=None, feature_types=None,\n",
       "              gamma=None, gpu_id=None, grow_policy=None, importance_type=None,\n",
       "              interaction_constraints=None, learning_rate=None, max_bin=None,\n",
       "              max_cat_threshold=None, max_cat_to_onehot=None,\n",
       "              max_delta_step=None, max_depth=None, max_leaves=None,\n",
       "              min_child_weight=None, missing=nan, monotone_constraints=None,\n",
       "              n_estimators=100, n_jobs=None, num_parallel_tree=None,\n",
       "              predictor=None, random_state=None, ...)</pre><b>In a Jupyter environment, please rerun this cell to show the HTML representation or trust the notebook. <br />On GitHub, the HTML representation is unable to render, please try loading this page with nbviewer.org.</b></div><div class=\"sk-container\" hidden><div class=\"sk-item\"><div class=\"sk-estimator sk-toggleable\"><input class=\"sk-toggleable__control sk-hidden--visually\" id=\"sk-estimator-id-1\" type=\"checkbox\" checked><label for=\"sk-estimator-id-1\" class=\"sk-toggleable__label sk-toggleable__label-arrow\">XGBClassifier</label><div class=\"sk-toggleable__content\"><pre>XGBClassifier(base_score=0.5, booster=&#x27;gbtree&#x27;, callbacks=None,\n",
       "              colsample_bylevel=None, colsample_bynode=None,\n",
       "              colsample_bytree=None, early_stopping_rounds=None,\n",
       "              enable_categorical=False, eval_metric=None, feature_types=None,\n",
       "              gamma=None, gpu_id=None, grow_policy=None, importance_type=None,\n",
       "              interaction_constraints=None, learning_rate=None, max_bin=None,\n",
       "              max_cat_threshold=None, max_cat_to_onehot=None,\n",
       "              max_delta_step=None, max_depth=None, max_leaves=None,\n",
       "              min_child_weight=None, missing=nan, monotone_constraints=None,\n",
       "              n_estimators=100, n_jobs=None, num_parallel_tree=None,\n",
       "              predictor=None, random_state=None, ...)</pre></div></div></div></div></div>"
      ],
      "text/plain": [
       "XGBClassifier(base_score=0.5, booster='gbtree', callbacks=None,\n",
       "              colsample_bylevel=None, colsample_bynode=None,\n",
       "              colsample_bytree=None, early_stopping_rounds=None,\n",
       "              enable_categorical=False, eval_metric=None, feature_types=None,\n",
       "              gamma=None, gpu_id=None, grow_policy=None, importance_type=None,\n",
       "              interaction_constraints=None, learning_rate=None, max_bin=None,\n",
       "              max_cat_threshold=None, max_cat_to_onehot=None,\n",
       "              max_delta_step=None, max_depth=None, max_leaves=None,\n",
       "              min_child_weight=None, missing=nan, monotone_constraints=None,\n",
       "              n_estimators=100, n_jobs=None, num_parallel_tree=None,\n",
       "              predictor=None, random_state=None, ...)"
      ]
     },
     "execution_count": 51,
     "metadata": {},
     "output_type": "execute_result"
    }
   ],
   "source": [
    "import xgboost as xgb\n",
    "\n",
    "XGBOOST_CLASSIFIER=xgb.XGBClassifier(base_score=0.5, booster='gbtree')\n",
    "XGBOOST_CLASSIFIER.fit(d,y)"
   ]
  },
  {
   "cell_type": "code",
   "execution_count": 52,
   "id": "bca9e43f",
   "metadata": {},
   "outputs": [
    {
     "data": {
      "text/html": [
       "<style>#sk-container-id-2 {color: black;background-color: white;}#sk-container-id-2 pre{padding: 0;}#sk-container-id-2 div.sk-toggleable {background-color: white;}#sk-container-id-2 label.sk-toggleable__label {cursor: pointer;display: block;width: 100%;margin-bottom: 0;padding: 0.3em;box-sizing: border-box;text-align: center;}#sk-container-id-2 label.sk-toggleable__label-arrow:before {content: \"▸\";float: left;margin-right: 0.25em;color: #696969;}#sk-container-id-2 label.sk-toggleable__label-arrow:hover:before {color: black;}#sk-container-id-2 div.sk-estimator:hover label.sk-toggleable__label-arrow:before {color: black;}#sk-container-id-2 div.sk-toggleable__content {max-height: 0;max-width: 0;overflow: hidden;text-align: left;background-color: #f0f8ff;}#sk-container-id-2 div.sk-toggleable__content pre {margin: 0.2em;color: black;border-radius: 0.25em;background-color: #f0f8ff;}#sk-container-id-2 input.sk-toggleable__control:checked~div.sk-toggleable__content {max-height: 200px;max-width: 100%;overflow: auto;}#sk-container-id-2 input.sk-toggleable__control:checked~label.sk-toggleable__label-arrow:before {content: \"▾\";}#sk-container-id-2 div.sk-estimator input.sk-toggleable__control:checked~label.sk-toggleable__label {background-color: #d4ebff;}#sk-container-id-2 div.sk-label input.sk-toggleable__control:checked~label.sk-toggleable__label {background-color: #d4ebff;}#sk-container-id-2 input.sk-hidden--visually {border: 0;clip: rect(1px 1px 1px 1px);clip: rect(1px, 1px, 1px, 1px);height: 1px;margin: -1px;overflow: hidden;padding: 0;position: absolute;width: 1px;}#sk-container-id-2 div.sk-estimator {font-family: monospace;background-color: #f0f8ff;border: 1px dotted black;border-radius: 0.25em;box-sizing: border-box;margin-bottom: 0.5em;}#sk-container-id-2 div.sk-estimator:hover {background-color: #d4ebff;}#sk-container-id-2 div.sk-parallel-item::after {content: \"\";width: 100%;border-bottom: 1px solid gray;flex-grow: 1;}#sk-container-id-2 div.sk-label:hover label.sk-toggleable__label {background-color: #d4ebff;}#sk-container-id-2 div.sk-serial::before {content: \"\";position: absolute;border-left: 1px solid gray;box-sizing: border-box;top: 0;bottom: 0;left: 50%;z-index: 0;}#sk-container-id-2 div.sk-serial {display: flex;flex-direction: column;align-items: center;background-color: white;padding-right: 0.2em;padding-left: 0.2em;position: relative;}#sk-container-id-2 div.sk-item {position: relative;z-index: 1;}#sk-container-id-2 div.sk-parallel {display: flex;align-items: stretch;justify-content: center;background-color: white;position: relative;}#sk-container-id-2 div.sk-item::before, #sk-container-id-2 div.sk-parallel-item::before {content: \"\";position: absolute;border-left: 1px solid gray;box-sizing: border-box;top: 0;bottom: 0;left: 50%;z-index: -1;}#sk-container-id-2 div.sk-parallel-item {display: flex;flex-direction: column;z-index: 1;position: relative;background-color: white;}#sk-container-id-2 div.sk-parallel-item:first-child::after {align-self: flex-end;width: 50%;}#sk-container-id-2 div.sk-parallel-item:last-child::after {align-self: flex-start;width: 50%;}#sk-container-id-2 div.sk-parallel-item:only-child::after {width: 0;}#sk-container-id-2 div.sk-dashed-wrapped {border: 1px dashed gray;margin: 0 0.4em 0.5em 0.4em;box-sizing: border-box;padding-bottom: 0.4em;background-color: white;}#sk-container-id-2 div.sk-label label {font-family: monospace;font-weight: bold;display: inline-block;line-height: 1.2em;}#sk-container-id-2 div.sk-label-container {text-align: center;}#sk-container-id-2 div.sk-container {/* jupyter's `normalize.less` sets `[hidden] { display: none; }` but bootstrap.min.css set `[hidden] { display: none !important; }` so we also need the `!important` here to be able to override the default hidden behavior on the sphinx rendered scikit-learn.org. See: https://github.com/scikit-learn/scikit-learn/issues/21755 */display: inline-block !important;position: relative;}#sk-container-id-2 div.sk-text-repr-fallback {display: none;}</style><div id=\"sk-container-id-2\" class=\"sk-top-container\"><div class=\"sk-text-repr-fallback\"><pre>GaussianNB()</pre><b>In a Jupyter environment, please rerun this cell to show the HTML representation or trust the notebook. <br />On GitHub, the HTML representation is unable to render, please try loading this page with nbviewer.org.</b></div><div class=\"sk-container\" hidden><div class=\"sk-item\"><div class=\"sk-estimator sk-toggleable\"><input class=\"sk-toggleable__control sk-hidden--visually\" id=\"sk-estimator-id-2\" type=\"checkbox\" checked><label for=\"sk-estimator-id-2\" class=\"sk-toggleable__label sk-toggleable__label-arrow\">GaussianNB</label><div class=\"sk-toggleable__content\"><pre>GaussianNB()</pre></div></div></div></div></div>"
      ],
      "text/plain": [
       "GaussianNB()"
      ]
     },
     "execution_count": 52,
     "metadata": {},
     "output_type": "execute_result"
    }
   ],
   "source": [
    "from sklearn.naive_bayes import GaussianNB\n",
    "gnb = GaussianNB()\n",
    "gnb.fit(d,y)\n"
   ]
  },
  {
   "cell_type": "code",
   "execution_count": 53,
   "id": "6e4424af",
   "metadata": {},
   "outputs": [],
   "source": [
    "import pandas as pd\n",
    "from sklearn.decomposition import PCA\n",
    "pca = PCA(n_components=2)\n",
    "X = pca.fit_transform(df)\n",
    "X=pd.DataFrame(X)"
   ]
  },
  {
   "cell_type": "code",
   "execution_count": 57,
   "id": "d3990e9c",
   "metadata": {},
   "outputs": [
    {
     "data": {
      "image/png": "[encoded data removed]",
      "text/plain": [
       "<Figure size 960x800 with 1 Axes>"
      ]
     },
     "metadata": {},
     "output_type": "display_data"
    }
   ],
   "source": [
    "import matplotlib.pyplot as plt\n",
    "\n",
    "plt.figure(figsize=(12, 10), dpi=80)\n",
    "\n",
    "ax = plt.gca()\n",
    "\n",
    "plt.scatter(X.iloc[:, 0], X.iloc[:, 1],  c=y, s=50, cmap='autumn', label=['Plagié', 'Non plagié'])\n",
    "\n",
    "#plt.scatter(clf.support_vectors_[:,0],clf.support_vectors_[:,1])\n",
    "\n",
    "xlim = ax.get_xlim()\n",
    "ylim = ax.get_ylim()\n",
    "xx = np.linspace(xlim[0], xlim[1], 30)\n",
    "yy = np.linspace(ylim[0], ylim[1], 30)\n",
    "YY, XX = np.meshgrid(yy, xx)\n",
    "xy = np.vstack([XX.ravel(), YY.ravel()]).T\n",
    "Z = clf.decision_function(xy).reshape(XX.shape)\n",
    "ax.contour(XX, YY, Z, colors='k', levels=[-1, 0, 1], alpha=0.5,\n",
    "          linestyles=['--', '-', '--'])\n",
    "\n",
    "#ax.scatter(clf.support_vectors_[:, 0], clf.support_vectors_[:, 1], s=100,\n",
    "#          linewidth=1, facecolors='none', edgecolors='k')\n",
    "\n",
    "plt.legend([\"Non plagié\" , \"Plagié\"])\n",
    "plt.show()\n"
   ]
  },
  {
   "cell_type": "code",
   "execution_count": 54,
   "id": "37443d27",
   "metadata": {},
   "outputs": [
    {
     "data": {
      "text/html": [
       "<style>#sk-container-id-3 {color: black;background-color: white;}#sk-container-id-3 pre{padding: 0;}#sk-container-id-3 div.sk-toggleable {background-color: white;}#sk-container-id-3 label.sk-toggleable__label {cursor: pointer;display: block;width: 100%;margin-bottom: 0;padding: 0.3em;box-sizing: border-box;text-align: center;}#sk-container-id-3 label.sk-toggleable__label-arrow:before {content: \"▸\";float: left;margin-right: 0.25em;color: #696969;}#sk-container-id-3 label.sk-toggleable__label-arrow:hover:before {color: black;}#sk-container-id-3 div.sk-estimator:hover label.sk-toggleable__label-arrow:before {color: black;}#sk-container-id-3 div.sk-toggleable__content {max-height: 0;max-width: 0;overflow: hidden;text-align: left;background-color: #f0f8ff;}#sk-container-id-3 div.sk-toggleable__content pre {margin: 0.2em;color: black;border-radius: 0.25em;background-color: #f0f8ff;}#sk-container-id-3 input.sk-toggleable__control:checked~div.sk-toggleable__content {max-height: 200px;max-width: 100%;overflow: auto;}#sk-container-id-3 input.sk-toggleable__control:checked~label.sk-toggleable__label-arrow:before {content: \"▾\";}#sk-container-id-3 div.sk-estimator input.sk-toggleable__control:checked~label.sk-toggleable__label {background-color: #d4ebff;}#sk-container-id-3 div.sk-label input.sk-toggleable__control:checked~label.sk-toggleable__label {background-color: #d4ebff;}#sk-container-id-3 input.sk-hidden--visually {border: 0;clip: rect(1px 1px 1px 1px);clip: rect(1px, 1px, 1px, 1px);height: 1px;margin: -1px;overflow: hidden;padding: 0;position: absolute;width: 1px;}#sk-container-id-3 div.sk-estimator {font-family: monospace;background-color: #f0f8ff;border: 1px dotted black;border-radius: 0.25em;box-sizing: border-box;margin-bottom: 0.5em;}#sk-container-id-3 div.sk-estimator:hover {background-color: #d4ebff;}#sk-container-id-3 div.sk-parallel-item::after {content: \"\";width: 100%;border-bottom: 1px solid gray;flex-grow: 1;}#sk-container-id-3 div.sk-label:hover label.sk-toggleable__label {background-color: #d4ebff;}#sk-container-id-3 div.sk-serial::before {content: \"\";position: absolute;border-left: 1px solid gray;box-sizing: border-box;top: 0;bottom: 0;left: 50%;z-index: 0;}#sk-container-id-3 div.sk-serial {display: flex;flex-direction: column;align-items: center;background-color: white;padding-right: 0.2em;padding-left: 0.2em;position: relative;}#sk-container-id-3 div.sk-item {position: relative;z-index: 1;}#sk-container-id-3 div.sk-parallel {display: flex;align-items: stretch;justify-content: center;background-color: white;position: relative;}#sk-container-id-3 div.sk-item::before, #sk-container-id-3 div.sk-parallel-item::before {content: \"\";position: absolute;border-left: 1px solid gray;box-sizing: border-box;top: 0;bottom: 0;left: 50%;z-index: -1;}#sk-container-id-3 div.sk-parallel-item {display: flex;flex-direction: column;z-index: 1;position: relative;background-color: white;}#sk-container-id-3 div.sk-parallel-item:first-child::after {align-self: flex-end;width: 50%;}#sk-container-id-3 div.sk-parallel-item:last-child::after {align-self: flex-start;width: 50%;}#sk-container-id-3 div.sk-parallel-item:only-child::after {width: 0;}#sk-container-id-3 div.sk-dashed-wrapped {border: 1px dashed gray;margin: 0 0.4em 0.5em 0.4em;box-sizing: border-box;padding-bottom: 0.4em;background-color: white;}#sk-container-id-3 div.sk-label label {font-family: monospace;font-weight: bold;display: inline-block;line-height: 1.2em;}#sk-container-id-3 div.sk-label-container {text-align: center;}#sk-container-id-3 div.sk-container {/* jupyter's `normalize.less` sets `[hidden] { display: none; }` but bootstrap.min.css set `[hidden] { display: none !important; }` so we also need the `!important` here to be able to override the default hidden behavior on the sphinx rendered scikit-learn.org. See: https://github.com/scikit-learn/scikit-learn/issues/21755 */display: inline-block !important;position: relative;}#sk-container-id-3 div.sk-text-repr-fallback {display: none;}</style><div id=\"sk-container-id-3\" class=\"sk-top-container\"><div class=\"sk-text-repr-fallback\"><pre>SVC(kernel=&#x27;linear&#x27;)</pre><b>In a Jupyter environment, please rerun this cell to show the HTML representation or trust the notebook. <br />On GitHub, the HTML representation is unable to render, please try loading this page with nbviewer.org.</b></div><div class=\"sk-container\" hidden><div class=\"sk-item\"><div class=\"sk-estimator sk-toggleable\"><input class=\"sk-toggleable__control sk-hidden--visually\" id=\"sk-estimator-id-3\" type=\"checkbox\" checked><label for=\"sk-estimator-id-3\" class=\"sk-toggleable__label sk-toggleable__label-arrow\">SVC</label><div class=\"sk-toggleable__content\"><pre>SVC(kernel=&#x27;linear&#x27;)</pre></div></div></div></div></div>"
      ],
      "text/plain": [
       "SVC(kernel='linear')"
      ]
     },
     "execution_count": 54,
     "metadata": {},
     "output_type": "execute_result"
    }
   ],
   "source": [
    "from sklearn import svm\n",
    "\n",
    "clf = svm.SVC(kernel='linear')\n",
    "clf.fit(df.iloc[:, 13:15], y)"
   ]
  },
  {
   "cell_type": "markdown",
   "id": "cdfbb5b7",
   "metadata": {},
   "source": [
    "## Entrainement des modèles"
   ]
  },
  {
   "cell_type": "markdown",
   "id": "6e59eb59",
   "metadata": {},
   "source": [
    "### SVM"
   ]
  },
  {
   "cell_type": "code",
   "execution_count": 89,
   "id": "af3e5d95",
   "metadata": {},
   "outputs": [
    {
     "name": "stderr",
     "output_type": "stream",
     "text": [
      "\r",
      "  0%|          | 0/10 [00:00<?, ?it/s]"
     ]
    },
    {
     "name": "stdout",
     "output_type": "stream",
     "text": [
      "\n"
     ]
    },
    {
     "name": "stderr",
     "output_type": "stream",
     "text": [
      " 10%|█         | 1/10 [01:20<12:08, 80.90s/it, loss=0.483]"
     ]
    },
    {
     "name": "stdout",
     "output_type": "stream",
     "text": [
      "\n"
     ]
    },
    {
     "name": "stderr",
     "output_type": "stream",
     "text": [
      " 20%|██        | 2/10 [03:06<12:43, 95.46s/it, loss=0.205]"
     ]
    },
    {
     "name": "stdout",
     "output_type": "stream",
     "text": [
      "\n"
     ]
    },
    {
     "name": "stderr",
     "output_type": "stream",
     "text": [
      " 30%|███       | 3/10 [05:14<12:50, 110.08s/it, loss=0.0825]"
     ]
    },
    {
     "name": "stdout",
     "output_type": "stream",
     "text": [
      "\n"
     ]
    },
    {
     "name": "stderr",
     "output_type": "stream",
     "text": [
      " 40%|████      | 4/10 [07:56<13:05, 130.91s/it, loss=0.0415]"
     ]
    },
    {
     "name": "stdout",
     "output_type": "stream",
     "text": [
      "\n"
     ]
    },
    {
     "name": "stderr",
     "output_type": "stream",
     "text": [
      " 50%|█████     | 5/10 [12:36<15:22, 184.51s/it, loss=0.0708]"
     ]
    },
    {
     "name": "stdout",
     "output_type": "stream",
     "text": [
      "\n"
     ]
    },
    {
     "name": "stderr",
     "output_type": "stream",
     "text": [
      " 60%|██████    | 6/10 [16:55<14:00, 210.01s/it, loss=0.0395]"
     ]
    },
    {
     "name": "stdout",
     "output_type": "stream",
     "text": [
      "\n"
     ]
    },
    {
     "name": "stderr",
     "output_type": "stream",
     "text": [
      " 70%|███████   | 7/10 [21:46<11:48, 236.29s/it, loss=0.012]  "
     ]
    },
    {
     "name": "stdout",
     "output_type": "stream",
     "text": [
      "\n"
     ]
    },
    {
     "name": "stderr",
     "output_type": "stream",
     "text": [
      " 80%|████████  | 8/10 [28:44<09:48, 294.13s/it, loss=0.00742]"
     ]
    },
    {
     "name": "stdout",
     "output_type": "stream",
     "text": [
      "\n"
     ]
    },
    {
     "name": "stderr",
     "output_type": "stream",
     "text": [
      " 90%|█████████ | 9/10 [36:24<05:46, 346.04s/it, loss=0.0076] "
     ]
    },
    {
     "name": "stdout",
     "output_type": "stream",
     "text": [
      "\n"
     ]
    },
    {
     "name": "stderr",
     "output_type": "stream",
     "text": [
      "100%|██████████| 10/10 [44:08<00:00, 264.82s/it, loss=0.00435]\n"
     ]
    }
   ],
   "source": [
    "model=GNN_SVM(768)\n",
    "optimizer= torch.optim.Adam(model.parameters(), lr=0.001, weight_decay=5*10**-4)\n",
    "loss= torch.nn.BCELoss()\n",
    "\n",
    "trainer=GNN_SVM_trainer(model)\n",
    "trainer.compiler(optimizer=optimizer, loss=loss)\n",
    "import copy\n",
    "\n",
    "data_copy=copy.deepcopy(data2)\n",
    "\n",
    "train_loss_SVM= trainer.fit(data_copy, batch_size=16, epochs=10)"
   ]
  },
  {
   "cell_type": "code",
   "execution_count": 33,
   "id": "f78b5e9b",
   "metadata": {},
   "outputs": [],
   "source": [
    "torch.save(trainer.model.state_dict(), \"C:/Users/pc/Desktop/plaag/plagup2/apps/home/model/model.pth\")"
   ]
  },
  {
   "cell_type": "code",
   "execution_count": 90,
   "id": "282c6565",
   "metadata": {},
   "outputs": [
    {
     "data": {
      "image/png": "[encoded data removed]",
      "text/plain": [
       "<Figure size 1000x500 with 1 Axes>"
      ]
     },
     "metadata": {},
     "output_type": "display_data"
    }
   ],
   "source": [
    "import matplotlib.pyplot as plt\n",
    "\n",
    "\n",
    "plt.figure(figsize=(10,5))\n",
    "plt.title(\"Training Loss\")\n",
    "plt.plot(train_loss_SVM)\n",
    "\n",
    "#plt.plot(score[0], label=\"test\")\n",
    "plt.xlabel(\"Epoch\")\n",
    "plt.ylabel(\"Loss\")\n",
    "plt.show()"
   ]
  },
  {
   "cell_type": "code",
   "execution_count": 91,
   "id": "ed12be99",
   "metadata": {},
   "outputs": [],
   "source": [
    "score_SVM=trainer.evaluate(data_copy)"
   ]
  },
  {
   "cell_type": "code",
   "execution_count": 92,
   "id": "c413bf22",
   "metadata": {},
   "outputs": [
    {
     "data": {
      "image/png": "[encoded data removed]",
      "text/plain": [
       "<Figure size 1000x500 with 1 Axes>"
      ]
     },
     "metadata": {},
     "output_type": "display_data"
    }
   ],
   "source": [
    "import matplotlib.pyplot as plt\n",
    "for i in range(len(score_SVM[0])):\n",
    "    score_SVM[0][i]=score_SVM[0][i].item()\n",
    "\n",
    "plt.figure(figsize=(10,5))\n",
    "plt.title(\"Training Loss\")\n",
    "plt.plot(score_SVM[0])\n",
    "\n",
    "#plt.plot(score[0], label=\"test\")\n",
    "plt.xlabel(\"Epoch\")\n",
    "plt.ylabel(\"Loss\")\n",
    "plt.show()"
   ]
  },
  {
   "cell_type": "markdown",
   "id": "9a8b7493",
   "metadata": {},
   "source": [
    "### NTN"
   ]
  },
  {
   "cell_type": "code",
   "execution_count": 59,
   "id": "5cb8c1de",
   "metadata": {},
   "outputs": [
    {
     "name": "stderr",
     "output_type": "stream",
     "text": [
      "\r",
      "  0%|          | 0/10 [00:00<?, ?it/s]"
     ]
    },
    {
     "name": "stdout",
     "output_type": "stream",
     "text": [
      "\n"
     ]
    },
    {
     "name": "stderr",
     "output_type": "stream",
     "text": [
      " 10%|█         | 1/10 [00:33<05:05, 33.92s/it, loss=2.84]"
     ]
    },
    {
     "name": "stdout",
     "output_type": "stream",
     "text": [
      "\n"
     ]
    },
    {
     "name": "stderr",
     "output_type": "stream",
     "text": [
      " 20%|██        | 2/10 [01:08<04:32, 34.11s/it, loss=0.462]"
     ]
    },
    {
     "name": "stdout",
     "output_type": "stream",
     "text": [
      "\n"
     ]
    },
    {
     "name": "stderr",
     "output_type": "stream",
     "text": [
      " 30%|███       | 3/10 [01:43<04:01, 34.57s/it, loss=0.439]"
     ]
    },
    {
     "name": "stdout",
     "output_type": "stream",
     "text": [
      "\n"
     ]
    },
    {
     "name": "stderr",
     "output_type": "stream",
     "text": [
      " 40%|████      | 4/10 [02:19<03:30, 35.04s/it, loss=0.43] "
     ]
    },
    {
     "name": "stdout",
     "output_type": "stream",
     "text": [
      "\n"
     ]
    },
    {
     "name": "stderr",
     "output_type": "stream",
     "text": [
      " 50%|█████     | 5/10 [02:49<02:47, 33.42s/it, loss=0.423]"
     ]
    },
    {
     "name": "stdout",
     "output_type": "stream",
     "text": [
      "\n"
     ]
    },
    {
     "name": "stderr",
     "output_type": "stream",
     "text": [
      " 60%|██████    | 6/10 [03:20<02:10, 32.54s/it, loss=0.42] "
     ]
    },
    {
     "name": "stdout",
     "output_type": "stream",
     "text": [
      "\n"
     ]
    },
    {
     "name": "stderr",
     "output_type": "stream",
     "text": [
      " 70%|███████   | 7/10 [03:51<01:36, 32.03s/it, loss=0.413]"
     ]
    },
    {
     "name": "stdout",
     "output_type": "stream",
     "text": [
      "\n"
     ]
    },
    {
     "name": "stderr",
     "output_type": "stream",
     "text": [
      " 80%|████████  | 8/10 [04:25<01:05, 32.75s/it, loss=0.426]"
     ]
    },
    {
     "name": "stdout",
     "output_type": "stream",
     "text": [
      "\n"
     ]
    },
    {
     "name": "stderr",
     "output_type": "stream",
     "text": [
      " 90%|█████████ | 9/10 [04:58<00:32, 32.89s/it, loss=0.403]"
     ]
    },
    {
     "name": "stdout",
     "output_type": "stream",
     "text": [
      "\n"
     ]
    },
    {
     "name": "stderr",
     "output_type": "stream",
     "text": [
      "100%|██████████| 10/10 [05:30<00:00, 33.05s/it, loss=0.412]\n"
     ]
    }
   ],
   "source": [
    "model3=GNN_NTN(768)\n",
    "optimizer= torch.optim.Adam(model3.parameters(), lr=0.001, weight_decay=5*10**-4)\n",
    "loss= torch.nn.BCELoss()\n",
    "\n",
    "trainer3=GNN_NTN_trainer(model3)\n",
    "trainer3.compiler(optimizer=optimizer, loss=loss)\n",
    "import copy\n",
    "\n",
    "data_copy=copy.deepcopy(data2)\n",
    "\n",
    "train_loss_NTN= trainer3.fit(data_copy, batch_size=16, epochs=10)"
   ]
  },
  {
   "cell_type": "code",
   "execution_count": 60,
   "id": "cbefa126",
   "metadata": {},
   "outputs": [
    {
     "data": {
      "image/png": "[encoded data removed]",
      "text/plain": [
       "<Figure size 1000x500 with 1 Axes>"
      ]
     },
     "metadata": {},
     "output_type": "display_data"
    }
   ],
   "source": [
    "import matplotlib.pyplot as plt\n",
    "\n",
    "\n",
    "plt.figure(figsize=(10,5))\n",
    "plt.title(\"Training Loss\")\n",
    "plt.plot(train_loss_NTN)\n",
    "\n",
    "#plt.plot(score[0], label=\"test\")\n",
    "plt.xlabel(\"Epoch\")\n",
    "plt.ylabel(\"Loss\")\n",
    "plt.show()"
   ]
  },
  {
   "cell_type": "code",
   "execution_count": 61,
   "id": "6b9a309d",
   "metadata": {},
   "outputs": [],
   "source": [
    "score_NTN=trainer3.evaluate(data_copy)"
   ]
  },
  {
   "cell_type": "code",
   "execution_count": 63,
   "id": "5b94d26a",
   "metadata": {
    "scrolled": false
   },
   "outputs": [
    {
     "data": {
      "image/png": "[encoded data removed]",
      "text/plain": [
       "<Figure size 1000x500 with 1 Axes>"
      ]
     },
     "metadata": {},
     "output_type": "display_data"
    }
   ],
   "source": [
    "import matplotlib.pyplot as plt\n",
    "for i in range(len(score_NTN[0])):\n",
    "    score_NTN[0][i]=score_NTN[0][i].item()\n",
    "\n",
    "plt.figure(figsize=(10,5))\n",
    "plt.title(\"Training Loss\")\n",
    "plt.plot(score_NTN[0])\n",
    "\n",
    "#plt.plot(score[0], label=\"test\")\n",
    "plt.xlabel(\"Epoch\")\n",
    "plt.ylabel(\"Loss\")\n",
    "\n",
    "plt.show()"
   ]
  },
  {
   "cell_type": "markdown",
   "id": "eaccc5b6",
   "metadata": {},
   "source": [
    "### XGBOOST"
   ]
  },
  {
   "cell_type": "code",
   "execution_count": 64,
   "id": "f18cba20",
   "metadata": {},
   "outputs": [
    {
     "name": "stderr",
     "output_type": "stream",
     "text": [
      "\r",
      "  0%|          | 0/10 [00:00<?, ?it/s]"
     ]
    },
    {
     "name": "stdout",
     "output_type": "stream",
     "text": [
      "\n"
     ]
    },
    {
     "name": "stderr",
     "output_type": "stream",
     "text": [
      " 10%|█         | 1/10 [00:16<02:29, 16.58s/it, loss=76.7]"
     ]
    },
    {
     "name": "stdout",
     "output_type": "stream",
     "text": [
      "\n"
     ]
    },
    {
     "name": "stderr",
     "output_type": "stream",
     "text": [
      " 20%|██        | 2/10 [00:32<02:11, 16.47s/it, loss=76.7]"
     ]
    },
    {
     "name": "stdout",
     "output_type": "stream",
     "text": [
      "\n"
     ]
    },
    {
     "name": "stderr",
     "output_type": "stream",
     "text": [
      " 30%|███       | 3/10 [00:49<01:54, 16.35s/it, loss=76.7]"
     ]
    },
    {
     "name": "stdout",
     "output_type": "stream",
     "text": [
      "\n"
     ]
    },
    {
     "name": "stderr",
     "output_type": "stream",
     "text": [
      " 40%|████      | 4/10 [01:06<01:41, 16.85s/it, loss=77.5]"
     ]
    },
    {
     "name": "stdout",
     "output_type": "stream",
     "text": [
      "\n"
     ]
    },
    {
     "name": "stderr",
     "output_type": "stream",
     "text": [
      " 50%|█████     | 5/10 [01:23<01:24, 16.98s/it, loss=77.5]"
     ]
    },
    {
     "name": "stdout",
     "output_type": "stream",
     "text": [
      "\n"
     ]
    },
    {
     "name": "stderr",
     "output_type": "stream",
     "text": [
      " 60%|██████    | 6/10 [01:41<01:08, 17.24s/it, loss=78.3]"
     ]
    },
    {
     "name": "stdout",
     "output_type": "stream",
     "text": [
      "\n"
     ]
    },
    {
     "name": "stderr",
     "output_type": "stream",
     "text": [
      " 70%|███████   | 7/10 [01:58<00:51, 17.09s/it, loss=78.3]"
     ]
    },
    {
     "name": "stdout",
     "output_type": "stream",
     "text": [
      "\n"
     ]
    },
    {
     "name": "stderr",
     "output_type": "stream",
     "text": [
      " 80%|████████  | 8/10 [02:16<00:34, 17.34s/it, loss=78.3]"
     ]
    },
    {
     "name": "stdout",
     "output_type": "stream",
     "text": [
      "\n"
     ]
    },
    {
     "name": "stderr",
     "output_type": "stream",
     "text": [
      " 90%|█████████ | 9/10 [02:33<00:17, 17.37s/it, loss=78.3]"
     ]
    },
    {
     "name": "stdout",
     "output_type": "stream",
     "text": [
      "\n"
     ]
    },
    {
     "name": "stderr",
     "output_type": "stream",
     "text": [
      "100%|██████████| 10/10 [02:53<00:00, 17.39s/it, loss=77.5]\n"
     ]
    }
   ],
   "source": [
    "model2=GNN_XGBOOST(768)\n",
    "optimizer= torch.optim.Adam(model2.parameters(), lr=0.001, weight_decay=5*10**-4)\n",
    "loss= torch.nn.BCELoss()\n",
    "\n",
    "trainer2=GNN_XGBOOST_trainer(model2)\n",
    "trainer2.compiler(optimizer=optimizer, loss=loss)\n",
    "import copy\n",
    "\n",
    "data_copy=copy.deepcopy(data2)\n",
    "\n",
    "train_loss_XGBOOST= trainer2.fit(data_copy, batch_size=16, epochs=10)"
   ]
  },
  {
   "cell_type": "code",
   "execution_count": 65,
   "id": "c7909149",
   "metadata": {},
   "outputs": [
    {
     "data": {
      "image/png": "[encoded data removed]",
      "text/plain": [
       "<Figure size 1000x500 with 1 Axes>"
      ]
     },
     "metadata": {},
     "output_type": "display_data"
    }
   ],
   "source": [
    "import matplotlib.pyplot as plt\n",
    "\n",
    "\n",
    "plt.figure(figsize=(10,5))\n",
    "plt.title(\"Training Loss\")\n",
    "plt.plot(train_loss_XGBOOST)\n",
    "\n",
    "#plt.plot(score[0], label=\"test\")\n",
    "plt.xlabel(\"Epoch\")\n",
    "plt.ylabel(\"Loss\")\n",
    "plt.show()"
   ]
  },
  {
   "cell_type": "code",
   "execution_count": 66,
   "id": "d9017b6f",
   "metadata": {},
   "outputs": [],
   "source": [
    "score_XGBOOST=trainer2.evaluate(data_copy)"
   ]
  },
  {
   "cell_type": "code",
   "execution_count": 67,
   "id": "6cf14045",
   "metadata": {},
   "outputs": [
    {
     "data": {
      "image/png": "[encoded data removed]",
      "text/plain": [
       "<Figure size 1000x500 with 1 Axes>"
      ]
     },
     "metadata": {},
     "output_type": "display_data"
    }
   ],
   "source": [
    "import matplotlib.pyplot as plt\n",
    "for i in range(len(score_XGBOOST[0])):\n",
    "    score_XGBOOST[0][i]=score_XGBOOST[0][i].item()\n",
    "\n",
    "plt.figure(figsize=(10,5))\n",
    "plt.title(\"Training Loss\")\n",
    "plt.plot(score_XGBOOST[0])\n",
    "\n",
    "#plt.plot(score[0], label=\"test\")\n",
    "plt.xlabel(\"Epoch\")\n",
    "plt.ylabel(\"Loss\")\n",
    "plt.show()"
   ]
  },
  {
   "cell_type": "markdown",
   "id": "1fa4ced5",
   "metadata": {},
   "source": [
    "### Naive Bayes"
   ]
  },
  {
   "cell_type": "code",
   "execution_count": 71,
   "id": "9dcbbffd",
   "metadata": {},
   "outputs": [
    {
     "name": "stderr",
     "output_type": "stream",
     "text": [
      "\r",
      "  0%|          | 0/10 [00:00<?, ?it/s]"
     ]
    },
    {
     "name": "stdout",
     "output_type": "stream",
     "text": [
      "\n"
     ]
    },
    {
     "name": "stderr",
     "output_type": "stream",
     "text": [
      " 10%|█         | 1/10 [00:56<08:29, 56.65s/it, loss=23.4]"
     ]
    },
    {
     "name": "stdout",
     "output_type": "stream",
     "text": [
      "\n"
     ]
    },
    {
     "name": "stderr",
     "output_type": "stream",
     "text": [
      " 20%|██        | 2/10 [01:52<07:27, 55.93s/it, loss=23.4]"
     ]
    },
    {
     "name": "stdout",
     "output_type": "stream",
     "text": [
      "\n"
     ]
    },
    {
     "name": "stderr",
     "output_type": "stream",
     "text": [
      " 30%|███       | 3/10 [02:48<06:34, 56.31s/it, loss=23.4]"
     ]
    },
    {
     "name": "stdout",
     "output_type": "stream",
     "text": [
      "\n"
     ]
    },
    {
     "name": "stderr",
     "output_type": "stream",
     "text": [
      " 40%|████      | 4/10 [03:45<05:38, 56.49s/it, loss=23.4]"
     ]
    },
    {
     "name": "stdout",
     "output_type": "stream",
     "text": [
      "\n"
     ]
    },
    {
     "name": "stderr",
     "output_type": "stream",
     "text": [
      " 50%|█████     | 5/10 [04:35<04:30, 54.03s/it, loss=23.4]"
     ]
    },
    {
     "name": "stdout",
     "output_type": "stream",
     "text": [
      "\n"
     ]
    },
    {
     "name": "stderr",
     "output_type": "stream",
     "text": [
      " 60%|██████    | 6/10 [05:24<03:29, 52.34s/it, loss=23.4]"
     ]
    },
    {
     "name": "stdout",
     "output_type": "stream",
     "text": [
      "\n"
     ]
    },
    {
     "name": "stderr",
     "output_type": "stream",
     "text": [
      " 70%|███████   | 7/10 [06:11<02:31, 50.50s/it, loss=23.4]"
     ]
    },
    {
     "name": "stdout",
     "output_type": "stream",
     "text": [
      "\n"
     ]
    },
    {
     "name": "stderr",
     "output_type": "stream",
     "text": [
      " 80%|████████  | 8/10 [06:58<01:38, 49.49s/it, loss=23.4]"
     ]
    },
    {
     "name": "stdout",
     "output_type": "stream",
     "text": [
      "\n"
     ]
    },
    {
     "name": "stderr",
     "output_type": "stream",
     "text": [
      " 90%|█████████ | 9/10 [07:44<00:48, 48.54s/it, loss=23.4]"
     ]
    },
    {
     "name": "stdout",
     "output_type": "stream",
     "text": [
      "\n"
     ]
    },
    {
     "name": "stderr",
     "output_type": "stream",
     "text": [
      "100%|██████████| 10/10 [08:33<00:00, 51.31s/it, loss=23.4]\n"
     ]
    }
   ],
   "source": [
    "model4=GNN_Naive(768)\n",
    "optimizer= torch.optim.Adam(model4.parameters(), lr=0.0001, weight_decay=5*10**-4)\n",
    "loss= torch.nn.BCELoss()\n",
    "\n",
    "trainer4=GNN_Naive_trainer(model4)\n",
    "trainer4.compiler(optimizer=optimizer, loss=loss)\n",
    "import copy\n",
    "\n",
    "data_copy=copy.deepcopy(data2)\n",
    "\n",
    "train_loss_Naive= trainer4.fit(data_copy,  batch_size=100, epochs=10)"
   ]
  },
  {
   "cell_type": "code",
   "execution_count": 72,
   "id": "9f76e84e",
   "metadata": {},
   "outputs": [
    {
     "data": {
      "image/png": "[encoded data removed]",
      "text/plain": [
       "<Figure size 1000x500 with 1 Axes>"
      ]
     },
     "metadata": {},
     "output_type": "display_data"
    }
   ],
   "source": [
    "import matplotlib.pyplot as plt\n",
    "\n",
    "\n",
    "plt.figure(figsize=(10,5))\n",
    "plt.title(\"Training Loss\")\n",
    "plt.plot(train_loss_Naive)\n",
    "\n",
    "#plt.plot(score[0], label=\"test\")\n",
    "plt.xlabel(\"Epoch\")\n",
    "plt.ylabel(\"Loss\")\n",
    "plt.show()"
   ]
  },
  {
   "cell_type": "code",
   "execution_count": 73,
   "id": "c5d8d689",
   "metadata": {},
   "outputs": [],
   "source": [
    "score_Naive=trainer4.evaluate(data_copy)"
   ]
  },
  {
   "cell_type": "code",
   "execution_count": 74,
   "id": "779308d5",
   "metadata": {},
   "outputs": [
    {
     "data": {
      "image/png": "[encoded data removed]",
      "text/plain": [
       "<Figure size 1000x500 with 1 Axes>"
      ]
     },
     "metadata": {},
     "output_type": "display_data"
    }
   ],
   "source": [
    "import matplotlib.pyplot as plt\n",
    "for i in range(len(score_SVM[0])):\n",
    "    score_Naive[0][i]=score_Naive[0][i].item()\n",
    "\n",
    "plt.figure(figsize=(10,5))\n",
    "plt.title(\"Training Loss\")\n",
    "plt.plot(score_Naive[0])\n",
    "\n",
    "#plt.plot(score[0], label=\"test\")\n",
    "plt.xlabel(\"Epoch\")\n",
    "plt.ylabel(\"Loss\")\n",
    "plt.show()"
   ]
  },
  {
   "cell_type": "markdown",
   "id": "beac35f5",
   "metadata": {},
   "source": [
    "# Evaluation du model"
   ]
  },
  {
   "cell_type": "code",
   "execution_count": 93,
   "id": "0929dac3",
   "metadata": {},
   "outputs": [
    {
     "data": {
      "text/plain": [
       "<Axes: >"
      ]
     },
     "execution_count": 93,
     "metadata": {},
     "output_type": "execute_result"
    },
    {
     "data": {
      "image/png": "[encoded data removed]",
      "text/plain": [
       "<Figure size 640x480 with 2 Axes>"
      ]
     },
     "metadata": {},
     "output_type": "display_data"
    }
   ],
   "source": [
    "from sklearn import metrics\n",
    "\n",
    "cf_matrix = metrics.confusion_matrix(score_SVM[3], score_SVM[2])\n",
    "import seaborn as sns\n",
    "sns.heatmap(cf_matrix, annot=True)"
   ]
  },
  {
   "cell_type": "code",
   "execution_count": 94,
   "id": "dc1e18b9",
   "metadata": {},
   "outputs": [
    {
     "data": {
      "text/plain": [
       "<Axes: >"
      ]
     },
     "execution_count": 94,
     "metadata": {},
     "output_type": "execute_result"
    },
    {
     "data": {
      "image/png": "[encoded data removed]",
      "text/plain": [
       "<Figure size 640x480 with 2 Axes>"
      ]
     },
     "metadata": {},
     "output_type": "display_data"
    }
   ],
   "source": [
    "from sklearn import metrics\n",
    "\n",
    "cf3_matrix = metrics.confusion_matrix(score_XGBOOST[3], score_XGBOOST[2])\n",
    "import seaborn as sns\n",
    "sns.heatmap(cf3_matrix, annot=True)"
   ]
  },
  {
   "cell_type": "code",
   "execution_count": 95,
   "id": "efae7659",
   "metadata": {},
   "outputs": [
    {
     "data": {
      "text/plain": [
       "<Axes: >"
      ]
     },
     "execution_count": 95,
     "metadata": {},
     "output_type": "execute_result"
    },
    {
     "data": {
      "image/png": "[encoded data removed]",
      "text/plain": [
       "<Figure size 640x480 with 2 Axes>"
      ]
     },
     "metadata": {},
     "output_type": "display_data"
    }
   ],
   "source": [
    "from sklearn import metrics\n",
    "\n",
    "cf3_matrix = metrics.confusion_matrix(score_NTN[3], score_NTN[2])\n",
    "import seaborn as sns\n",
    "sns.heatmap(cf3_matrix, annot=True)"
   ]
  },
  {
   "cell_type": "code",
   "execution_count": 96,
   "id": "2cb4a0bd",
   "metadata": {},
   "outputs": [],
   "source": [
    "# Importing all necessary libraries\n",
    "from sklearn.metrics import precision_score\n",
    "\n",
    "# Calculating the precision score of classifier\n",
    "precision_SVM=precision_score(score_SVM[3], score_SVM[2])\n",
    "precision_NTN=precision_score(score_NTN[3], score_NTN[2])\n",
    "precision_XGBOOST=precision_score(score_XGBOOST[3], score_XGBOOST[2])\n",
    "precision_Naive=precision_score(score_Naive[3], score_Naive[2])\n"
   ]
  },
  {
   "cell_type": "code",
   "execution_count": 97,
   "id": "ceac0616",
   "metadata": {},
   "outputs": [],
   "source": [
    "from sklearn.metrics import recall_score\n",
    "\n",
    "# Calculating the recall score of classifier\n",
    "recall_SVM=recall_score(score_SVM[3], score_SVM[2])\n",
    "recall_NTN=recall_score(score_NTN[3], score_NTN[2])\n",
    "recall_XGBOOST=recall_score(score_XGBOOST[3], score_XGBOOST[2])\n",
    "recall_Naive=recall_score(score_Naive[3], score_Naive[2])"
   ]
  },
  {
   "cell_type": "code",
   "execution_count": 98,
   "id": "aa53fa03",
   "metadata": {},
   "outputs": [],
   "source": [
    "\n",
    "# Importing all necessary libraries\n",
    "from sklearn.metrics import f1_score\n",
    "\n",
    "# Calculating the F1 score of classifier\n",
    "f1_SVM=f1_score(score_SVM[3], score_SVM[2])\n",
    "f1_NTN=f1_score(score_NTN[3], score_NTN[2])\n",
    "f1_XGBOOST=f1_score(score_XGBOOST[3], score_XGBOOST[2])\n",
    "f1_Naive=f1_score(score_Naive[3], score_Naive[2])"
   ]
  },
  {
   "cell_type": "code",
   "execution_count": 99,
   "id": "a17ea8c9",
   "metadata": {},
   "outputs": [],
   "source": [
    "# Importing all necessary libraries\n",
    "from sklearn.metrics import accuracy_score\n",
    "# Calculating the accuracy of classifier\n",
    "accuracy_SVM=accuracy_score(score_SVM[3], score_SVM[2])\n",
    "accuracy_NTN=accuracy_score(score_NTN[3], score_NTN[2])\n",
    "accuracy_XGBOOST=accuracy_score(score_XGBOOST[3], score_XGBOOST[2])\n",
    "accuracy_Naive=accuracy_score(score_Naive[3], score_Naive[2])"
   ]
  },
  {
   "cell_type": "code",
   "execution_count": 100,
   "id": "36efdadd",
   "metadata": {},
   "outputs": [],
   "source": [
    "# Importing all necessary libraries\n",
    "from sklearn.metrics import roc_auc_score\n",
    "# Calculating the accuracy of classifier\n",
    "auc_SVM=roc_auc_score(score_SVM[3], score_SVM[2])\n",
    "auc_NTN=roc_auc_score(score_NTN[3], score_NTN[2])\n",
    "auc_XGBOOST=roc_auc_score(score_XGBOOST[3], score_XGBOOST[2])\n",
    "auc_Naive=roc_auc_score(score_Naive[3], score_Naive[2])"
   ]
  },
  {
   "cell_type": "code",
   "execution_count": 101,
   "id": "7f3327b1",
   "metadata": {},
   "outputs": [],
   "source": [
    "dictionnary={\n",
    "    \"Modèle\": [\"Notre modèle\", \"SimGnn\", \"XGBOOST\", \"Kmeans\"],\n",
    "    \"Accuracy\": [accuracy_SVM, accuracy_NTN, accuracy_XGBOOST, accuracy_Naive],\n",
    "     \"Précision\":[recall_SVM, recall_NTN, recall_XGBOOST, recall_Naive],\n",
    "    \"Rappel\":[precision_SVM, precision_NTN, precision_XGBOOST, precision_Naive],\n",
    "    \"F1_score\":[f1_SVM, f1_NTN, f1_XGBOOST, f1_Naive],\n",
    "    \"AUC\":[auc_SVM, auc_NTN, auc_XGBOOST, auc_Naive]\n",
    "    \n",
    "    \n",
    "    \n",
    "}"
   ]
  },
  {
   "cell_type": "code",
   "execution_count": 102,
   "id": "a231d197",
   "metadata": {},
   "outputs": [],
   "source": [
    "import pandas as pd\n",
    "df2=pd.DataFrame(dictionnary)"
   ]
  },
  {
   "cell_type": "code",
   "execution_count": 103,
   "id": "09800d22",
   "metadata": {},
   "outputs": [
    {
     "data": {
      "text/html": [
       "<div>\n",
       "<style scoped>\n",
       "    .dataframe tbody tr th:only-of-type {\n",
       "        vertical-align: middle;\n",
       "    }\n",
       "\n",
       "    .dataframe tbody tr th {\n",
       "        vertical-align: top;\n",
       "    }\n",
       "\n",
       "    .dataframe thead th {\n",
       "        text-align: right;\n",
       "    }\n",
       "</style>\n",
       "<table border=\"1\" class=\"dataframe\">\n",
       "  <thead>\n",
       "    <tr style=\"text-align: right;\">\n",
       "      <th></th>\n",
       "      <th>Modèle</th>\n",
       "      <th>Accuracy</th>\n",
       "      <th>Précision</th>\n",
       "      <th>Rappel</th>\n",
       "      <th>F1_score</th>\n",
       "      <th>AUC</th>\n",
       "    </tr>\n",
       "  </thead>\n",
       "  <tbody>\n",
       "    <tr>\n",
       "      <th>0</th>\n",
       "      <td>Notre modèle</td>\n",
       "      <td>0.989130</td>\n",
       "      <td>1.000000</td>\n",
       "      <td>0.986486</td>\n",
       "      <td>0.993197</td>\n",
       "      <td>0.973684</td>\n",
       "    </tr>\n",
       "    <tr>\n",
       "      <th>1</th>\n",
       "      <td>SimGnn</td>\n",
       "      <td>0.826087</td>\n",
       "      <td>1.000000</td>\n",
       "      <td>0.820225</td>\n",
       "      <td>0.901235</td>\n",
       "      <td>0.578947</td>\n",
       "    </tr>\n",
       "    <tr>\n",
       "      <th>2</th>\n",
       "      <td>XGBOOST</td>\n",
       "      <td>0.239130</td>\n",
       "      <td>0.041096</td>\n",
       "      <td>1.000000</td>\n",
       "      <td>0.078947</td>\n",
       "      <td>0.520548</td>\n",
       "    </tr>\n",
       "    <tr>\n",
       "      <th>3</th>\n",
       "      <td>Kmeans</td>\n",
       "      <td>0.793478</td>\n",
       "      <td>1.000000</td>\n",
       "      <td>0.793478</td>\n",
       "      <td>0.884848</td>\n",
       "      <td>0.500000</td>\n",
       "    </tr>\n",
       "  </tbody>\n",
       "</table>\n",
       "</div>"
      ],
      "text/plain": [
       "         Modèle  Accuracy  Précision    Rappel  F1_score       AUC\n",
       "0  Notre modèle  0.989130   1.000000  0.986486  0.993197  0.973684\n",
       "1        SimGnn  0.826087   1.000000  0.820225  0.901235  0.578947\n",
       "2       XGBOOST  0.239130   0.041096  1.000000  0.078947  0.520548\n",
       "3        Kmeans  0.793478   1.000000  0.793478  0.884848  0.500000"
      ]
     },
     "execution_count": 103,
     "metadata": {},
     "output_type": "execute_result"
    }
   ],
   "source": [
    "df2"
   ]
  },
  {
   "cell_type": "code",
   "execution_count": 104,
   "id": "eaa3606e",
   "metadata": {},
   "outputs": [],
   "source": [
    "dictionnary2={\n",
    "    'Métriques': df2.columns[1:],\n",
    "    'GraphSAGE-SVM': df2.iloc[0,1:],\n",
    "    'SimGNN':df2.iloc[1, 1:],\n",
    "    'XGBOOST':df2.iloc[2,1:],\n",
    "    'Naive Bayes':df2.iloc[3,1:]\n",
    "}\n",
    "import pandas as pd\n",
    "df3=pd.DataFrame(dictionnary2)\n"
   ]
  },
  {
   "cell_type": "code",
   "execution_count": 105,
   "id": "2866805a",
   "metadata": {},
   "outputs": [
    {
     "data": {
      "text/plain": [
       "<Axes: title={'center': 'Evaluation des modèles de détection de plagiat des codes sources'}, xlabel='Métriques'>"
      ]
     },
     "execution_count": 105,
     "metadata": {},
     "output_type": "execute_result"
    },
    {
     "data": {
      "image/png": "[encoded data removed]",
      "text/plain": [
       "<Figure size 1200x700 with 1 Axes>"
      ]
     },
     "metadata": {},
     "output_type": "display_data"
    }
   ],
   "source": [
    "df3.plot(x=\"Métriques\", y=['GraphSAGE-SVM', 'SimGNN', 'XGBOOST', 'Naive Bayes'], kind=\"bar\",figsize=(12,7), title='Evaluation des modèles de détection de plagiat des codes sources')\n"
   ]
  },
  {
   "cell_type": "code",
   "execution_count": 106,
   "id": "6ab90b5c",
   "metadata": {
    "scrolled": true
   },
   "outputs": [
    {
     "data": {
      "text/plain": [
       "Text(0.5, 0, 'Epochs')"
      ]
     },
     "execution_count": 106,
     "metadata": {},
     "output_type": "execute_result"
    },
    {
     "data": {
      "image/png": "[encoded data removed]",
      "text/plain": [
       "<Figure size 640x480 with 4 Axes>"
      ]
     },
     "metadata": {},
     "output_type": "display_data"
    }
   ],
   "source": [
    "figure, axis = plt.subplots(2, 2)\n",
    "\n",
    "# For Sine Function\n",
    "axis[0, 0].plot(train_loss_SVM)\n",
    "axis[0, 0].set_title(\"Notre modèle\")\n",
    "  \n",
    "# For Cosine Function\n",
    "axis[0, 1].plot(train_loss_NTN)\n",
    "axis[0, 1].set_title(\"SimGNN\")\n",
    "  \n",
    "# For Tangent Function\n",
    "axis[1, 0].plot(train_loss_XGBOOST)\n",
    "axis[1, 0].set_title(\"XGBOOST\")\n",
    "  \n",
    "# For Tanh Function\n",
    "axis[1, 1].plot(train_loss_Naive)\n",
    "axis[1, 1].set_title(\"Naive Bayes\")\n",
    "for ax in axis.flat:\n",
    "    ax.label_outer()\n",
    "    \n",
    "axis[1,0].set_xlabel(\"Epochs\")\n",
    "axis[0,0].set_ylabel(\"Perte d'entrainement\")\n",
    "axis[1,0].set_ylabel(\"Perte d'entrainement\")\n",
    "axis[0,1].set_ylabel(\"Perte d'entrainement\")\n",
    "axis[1,1].set_ylabel(\"Perte d'entrainement\")\n",
    "axis[1,1].set_xlabel(\"Epochs\")"
   ]
  },
  {
   "cell_type": "code",
   "execution_count": 107,
   "id": "d683d5b5",
   "metadata": {},
   "outputs": [
    {
     "data": {
      "text/plain": [
       "Text(0.5, 0, 'Epochs')"
      ]
     },
     "execution_count": 107,
     "metadata": {},
     "output_type": "execute_result"
    },
    {
     "data": {
      "image/png": "[encoded data removed]",
      "text/plain": [
       "<Figure size 640x480 with 4 Axes>"
      ]
     },
     "metadata": {},
     "output_type": "display_data"
    }
   ],
   "source": [
    "figure, axis = plt.subplots(2, 2)\n",
    "  \n",
    "# For Sine Function\n",
    "axis[0, 0].plot(score_SVM[0])\n",
    "axis[0, 0].set_title(\"Notre modèle\")\n",
    "  \n",
    "# For Cosine Function\n",
    "axis[0, 1].plot(score_NTN[0])\n",
    "axis[0, 1].set_title(\"SimGNN\")\n",
    "  \n",
    "# For Tangent Function\n",
    "axis[1, 0].plot(score_XGBOOST[0])\n",
    "axis[1, 0].set_title(\"XGBOOST\")\n",
    "  \n",
    "# For Tanh Function\n",
    "axis[1, 1].plot(score_Naive[0])\n",
    "axis[1, 1].set_title(\"Naive Bayes\")\n",
    "for ax in axis.flat:\n",
    "    ax.label_outer()\n",
    "    \n",
    "axis[1,0].set_xlabel(\"Epochs\")\n",
    "axis[0,0].set_ylabel(\"Perte de test\")\n",
    "axis[1,0].set_ylabel(\"Perte de test\")\n",
    "axis[0,1].set_ylabel(\"Perte de test\")\n",
    "axis[1,1].set_ylabel(\"Perte de test\")\n",
    "axis[1,1].set_xlabel(\"Epochs\")"
   ]
  },
  {
   "cell_type": "code",
   "execution_count": 108,
   "id": "9f950af3",
   "metadata": {},
   "outputs": [
    {
     "data": {
      "text/plain": [
       "0.9736842105263158"
      ]
     },
     "execution_count": 108,
     "metadata": {},
     "output_type": "execute_result"
    }
   ],
   "source": [
    "from sklearn.metrics import roc_auc_score, roc_curve\n",
    "roc=roc_auc_score(score_SVM[3], score_SVM[2])\n",
    "roc"
   ]
  },
  {
   "cell_type": "code",
   "execution_count": 109,
   "id": "b5ad4dc3",
   "metadata": {},
   "outputs": [
    {
     "data": {
      "text/plain": [
       "Text(0, 0.5, 'Taux de vrais positifs')"
      ]
     },
     "execution_count": 109,
     "metadata": {},
     "output_type": "execute_result"
    },
    {
     "data": {
      "image/png": "[encoded data removed]",
      "text/plain": [
       "<Figure size 640x480 with 1 Axes>"
      ]
     },
     "metadata": {},
     "output_type": "display_data"
    }
   ],
   "source": [
    "    fpr, tpr, thresholds = roc_curve(score_SVM[3], score_SVM[2])\n",
    "    plt.plot(fpr, tpr)\n",
    "    plt.xlabel('Taux de faux positifs')\n",
    "    plt.ylabel('Taux de vrais positifs')"
   ]
  }
 ],
 "metadata": {
  "kernelspec": {
   "display_name": "Python 3 (ipykernel)",
   "language": "python",
   "name": "python3"
  },
  "language_info": {
   "codemirror_mode": {
    "name": "ipython",
    "version": 3
   },
   "file_extension": ".py",
   "mimetype": "text/x-python",
   "name": "python",
   "nbconvert_exporter": "python",
   "pygments_lexer": "ipython3",
   "version": "3.9.7"
  }
 },
 "nbformat": 4,
 "nbformat_minor": 5
}
